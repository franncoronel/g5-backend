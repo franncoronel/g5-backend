{
 "cells": [
  {
   "cell_type": "code",
   "execution_count": 5,
   "id": "1aee073d",
   "metadata": {},
   "outputs": [],
   "source": [
    "import pandas as pd\n",
    "import os\n",
    "import sys "
   ]
  },
  {
   "cell_type": "code",
   "execution_count": 6,
   "id": "93cfe821",
   "metadata": {},
   "outputs": [],
   "source": [
    "# Subo dos niveles desde data_analysis -> src -> g5-backend\n",
    "sys.path.append(os.path.abspath(os.path.join(os.getcwd(), \"../..\")))"
   ]
  },
  {
   "cell_type": "code",
   "execution_count": 7,
   "id": "7fcfeb07",
   "metadata": {},
   "outputs": [],
   "source": [
    "from src.paths import RUTA_TITULO\n",
    "from src.paths import DIR_DATA_PROCESADA\n",
    "#from src.helpers import leer_tsv_chunks\n",
    "from src.helpers import DatasetManager\n",
    "from src.helpers import DataCleaner\n",
    "\n",
    "from src.paths import RUTA_PERSONAL\n",
    "from src.paths import RUTA_CRITICAS\n",
    "from src.paths import RUTA_PRINCIPALES\n",
    "from src.paths import RUTA_NOMBRE"
   ]
  },
  {
   "cell_type": "markdown",
   "id": "df9eb5d0",
   "metadata": {},
   "source": [
    "Muestro la cantidad y tipos de títulos encontrados"
   ]
  },
  {
   "cell_type": "code",
   "execution_count": 4,
   "id": "b1eed316",
   "metadata": {},
   "outputs": [
    {
     "name": "stdout",
     "output_type": "stream",
     "text": [
      "Tipos de títulos únicos encontrados:\n",
      "- movie\n",
      "- short\n",
      "- tvEpisode\n",
      "- tvMiniSeries\n",
      "- tvMovie\n",
      "- tvPilot\n",
      "- tvSeries\n",
      "- tvShort\n",
      "- tvSpecial\n",
      "- video\n",
      "- videoGame\n",
      "\n",
      " Cantidad total de tipos de títulos: 11\n"
     ]
    }
   ],
   "source": [
    "cleaner=DataCleaner(RUTA_TITULO, DIR_DATA_PROCESADA)\n",
    "\n",
    "lista_tipos=cleaner.mostrarContenidoDeUnaColumna('titleType')\n",
    "\n",
    "print(\"Tipos de títulos únicos encontrados:\")\n",
    "for tipo in lista_tipos:\n",
    "    print(f\"- {tipo}\")\n",
    "\n",
    "print(f'\\n Cantidad total de tipos de títulos: {len(lista_tipos)}')"
   ]
  },
  {
   "cell_type": "markdown",
   "id": "42a3c8a0",
   "metadata": {},
   "source": [
    "Filtro 5 títulos de *short, tvMovie, tvShort, tvSpecial*"
   ]
  },
  {
   "cell_type": "code",
   "execution_count": 10,
   "id": "38f40fe0",
   "metadata": {},
   "outputs": [
    {
     "name": "stdout",
     "output_type": "stream",
     "text": [
      "\n",
      "=== SHORT ===\n",
      "Título Original                     | Año Inicio | Duración | Géneros\n",
      "---------------------------------------------------------------------\n",
      "Carmencita                          | 1894       | 1        | Documentary,Short\n",
      "Le clown et ses chiens              | 1892       | 5        | Animation,Short\n",
      "Pauvre Pierrot                      | 1892       | 5        | Animation,Comedy,Romance\n",
      "Un bon bock                         | 1892       | 12       | Animation,Short\n",
      "Blacksmith Scene                    | 1893       | 1        | Short\n",
      "\n",
      "=== TVMOVIE ===\n",
      "Título Original                     | Año Inicio | Duración | Géneros\n",
      "---------------------------------------------------------------------\n",
      "Julius Caesar                       | 1938       | 101      | Drama,History\n",
      "As You Like It                      | 1946       | \\N       | Drama\n",
      "A Midsummer Night's Dream           | 1946       | 150      | Drama,Fantasy\n",
      "Hamlet Part 1                       | 1947       | 88       | Drama\n",
      "The Merchant of Venice              | 1947       | 90       | Drama\n",
      "\n",
      "=== TVSHORT ===\n",
      "Título Original                     | Año Inicio | Duración | Géneros\n",
      "---------------------------------------------------------------------\n",
      "Much Ado About Nothing              | 1937       | 10       | Comedy,Romance,Short\n",
      "The Sun Was Setting                 | 1951       | 20       | Drama,Short\n",
      "The Indiscreet Mrs. Jarvis          | 1955       | 25       | Drama,Short\n",
      "Herr Sleeman kommer                 | 1957       | 43       | Drama,Short\n",
      "Poet's London                       | 1959       | 12       | Documentary,Short\n",
      "\n",
      "=== TVSPECIAL ===\n",
      "Título Original                     | Año Inicio | Duración | Géneros\n",
      "---------------------------------------------------------------------\n",
      "The Bob Hope Vietnam Christmas Show | 1966       | \\N       | Comedy,Documentary,Music\n",
      "Doug Henning's World of Magic       | 1976       | 60       | Family,Fantasy\n",
      "Boom Boom, Out Go the Lights        | 1981       | 30       | Comedy\n",
      "The Mondo Beyondo Show              | 1988       | 60       | Comedy,Music\n",
      "Eddie Murphy: Delirious             | 1983       | 69       | Comedy,Documentary\n"
     ]
    }
   ],
   "source": [
    "# Lista de tipos que queremos filtrar\n",
    "tipos_buscados = ['short', 'tvMovie', 'tvShort', 'tvSpecial']\n",
    "\n",
    "# Diccionario para almacenar los resultados de cada tipo\n",
    "resultados = {tipo: [] for tipo in tipos_buscados}\n",
    "\n",
    "# Leer chunks y filtrar\n",
    "titulos_iterable = cleaner.leer_tsv_chunks(cleaner.ruta_archivo)\n",
    "\n",
    "for chunk in titulos_iterable:\n",
    "    for tipo in tipos_buscados:\n",
    "        # Si aún no tenemos 5 registros de este tipo, buscamos más\n",
    "        if len(resultados[tipo]) < 5:\n",
    "            filtrados = chunk[chunk['titleType'] == tipo]\n",
    "            # Tomamos solo los que faltan hasta llegar a 5\n",
    "            resultados[tipo].extend(filtrados.head(5 - len(resultados[tipo])).to_dict('records'))\n",
    "    \n",
    "    # Verificar si ya tenemos 5 de cada tipo\n",
    "    if all(len(registros) >= 5 for registros in resultados.values()):\n",
    "        break\n",
    "\n",
    "# Mostrar resultados con tabla alineada\n",
    "for tipo in tipos_buscados:\n",
    "    print(f\"\\n=== {tipo.upper()} ===\")\n",
    "    header = f\"{'Título Original':<35} | {'Año Inicio':<10} | {'Duración':<8} | Géneros\"\n",
    "    print(header)\n",
    "    print(\"-\" * len(header))\n",
    "    \n",
    "    for registro in resultados[tipo]:\n",
    "        titulo = registro['originalTitle'][:35]  # Limitar a 35 caracteres\n",
    "        anio = registro['startYear']\n",
    "        duracion = registro['runtimeMinutes']\n",
    "        generos = registro['genres']\n",
    "        print(f\"{titulo:<35} | {anio:<10} | {duracion:<8} | {generos}\")"
   ]
  },
  {
   "cell_type": "markdown",
   "id": "0892d732",
   "metadata": {},
   "source": [
    "Filtramos sólo las películas.  \n",
    "De todo el dataset, guarda solo películas y TV movies"
   ]
  },
  {
   "cell_type": "code",
   "execution_count": 6,
   "id": "39f7691f",
   "metadata": {},
   "outputs": [],
   "source": [
    "# Tipos de películas que queremos mantener\n",
    "tipos_peliculas = ['movie', 'tvMovie']\n",
    "\n",
    "# Lista para ir acumulando los chunks filtrados\n",
    "peliculas_filtradas = []\n",
    "\n",
    "# Leer y filtrar por chunks\n",
    "titulos_iterable = DatasetManager().leer_tsv_chunks(RUTA_TITULO)\n",
    "for chunk in titulos_iterable:\n",
    "    # Filtrar solo los tipos que queremos\n",
    "    chunk_filtrado = chunk[chunk['titleType'].isin(tipos_peliculas)]\n",
    "    peliculas_filtradas.append(chunk_filtrado)\n",
    "\n",
    "# Concatenar todos los chunks filtrados en un único DataFrame\n",
    "df_peliculas = pd.concat(peliculas_filtradas, ignore_index=True)"
   ]
  },
  {
   "cell_type": "code",
   "execution_count": 7,
   "id": "8b956162",
   "metadata": {},
   "outputs": [
    {
     "name": "stdout",
     "output_type": "stream",
     "text": [
      "Total de registros filtrados: 876594\n",
      "\n",
      "Distribución por tipo:\n",
      "titleType\n",
      "movie      724491\n",
      "tvMovie    152103\n",
      "Name: count, dtype: int64\n",
      "\n",
      "Primeras 5 películas de cada tipo:\n",
      "\n",
      "=== MOVIE ===\n",
      "                    primaryTitle startYear runtimeMinutes  \\\n",
      "0                     Miss Jerry      1894             45   \n",
      "1  The Corbett-Fitzsimmons Fight      1897            100   \n",
      "2                       Bohemios      1905            100   \n",
      "3    The Story of the Kelly Gang      1906             70   \n",
      "4               The Prodigal Son      1907             90   \n",
      "\n",
      "                       genres  \n",
      "0                     Romance  \n",
      "1      Documentary,News,Sport  \n",
      "2                          \\N  \n",
      "3  Action,Adventure,Biography  \n",
      "4                       Drama  \n",
      "\n",
      "=== TVMOVIE ===\n",
      "                    primaryTitle startYear runtimeMinutes         genres\n",
      "20302              Julius Caesar      1938            101  Drama,History\n",
      "26711             As You Like It      1946             \\N          Drama\n",
      "27062  A Midsummer Night's Dream      1946            150  Drama,Fantasy\n",
      "27632              Hamlet Part 1      1947             88          Drama\n",
      "27778     The Merchant of Venice      1947             90          Drama\n"
     ]
    }
   ],
   "source": [
    "# Mostrar información general\n",
    "print(f\"Total de registros filtrados: {len(df_peliculas)}\")\n",
    "print(\"\\nDistribución por tipo:\")\n",
    "print(df_peliculas['titleType'].value_counts())\n",
    "\n",
    "print(\"\\nPrimeras 5 películas de cada tipo:\")\n",
    "for tipo in tipos_peliculas:\n",
    "    print(f\"\\n=== {tipo.upper()} ===\")\n",
    "    print(df_peliculas[df_peliculas['titleType'] == tipo].head()[['primaryTitle', 'startYear', 'runtimeMinutes', 'genres']])"
   ]
  },
  {
   "cell_type": "markdown",
   "id": "68f6f481",
   "metadata": {},
   "source": [
    "Función para análisis de valores nulos"
   ]
  },
  {
   "cell_type": "code",
   "execution_count": 8,
   "id": "29b96553",
   "metadata": {},
   "outputs": [],
   "source": [
    "# Función para contar valores nulos y '\\N'\n",
    "def contar_nulos(df, columna):\n",
    "    nulos_N = df[df[columna] == '\\\\N'].shape[0]  # Contar '\\N'\n",
    "    nulos_nan = df[columna].isna().sum()         # Contar NaN\n",
    "    total = nulos_N + nulos_nan\n",
    "    porcentaje = (total / len(df)) * 100\n",
    "    return {\n",
    "        'Valores \\\\N': nulos_N,\n",
    "        'Valores NaN': nulos_nan,\n",
    "        'Total Nulos': total,\n",
    "        'Porcentaje': f\"{porcentaje:.2f}%\"\n",
    "    }"
   ]
  },
  {
   "cell_type": "markdown",
   "id": "a01b45f1",
   "metadata": {},
   "source": [
    "Recorre todas las columnas y muestra cuántos nulos hay en cada una."
   ]
  },
  {
   "cell_type": "code",
   "execution_count": 9,
   "id": "1d3cff2b",
   "metadata": {},
   "outputs": [
    {
     "name": "stdout",
     "output_type": "stream",
     "text": [
      "Análisis de valores nulos por columna:\n",
      "--------------------------------------------------\n",
      "\n",
      "Columna: tconst\n",
      "- Valores '\\N': 0\n",
      "- Valores NaN: 0\n",
      "- Total nulos: 0\n",
      "- Porcentaje: 0.00%\n",
      "\n",
      "Columna: titleType\n",
      "- Valores '\\N': 0\n",
      "- Valores NaN: 0\n",
      "- Total nulos: 0\n",
      "- Porcentaje: 0.00%\n",
      "\n",
      "Columna: primaryTitle\n",
      "- Valores '\\N': 0\n",
      "- Valores NaN: 3\n",
      "- Total nulos: 3\n",
      "- Porcentaje: 0.00%\n",
      "\n",
      "Columna: originalTitle\n",
      "- Valores '\\N': 0\n",
      "- Valores NaN: 3\n",
      "- Total nulos: 3\n",
      "- Porcentaje: 0.00%\n",
      "\n",
      "Columna: isAdult\n",
      "- Valores '\\N': 0\n",
      "- Valores NaN: 0\n",
      "- Total nulos: 0\n",
      "- Porcentaje: 0.00%\n",
      "\n",
      "Columna: startYear\n",
      "- Valores '\\N': 111,390\n",
      "- Valores NaN: 0\n",
      "- Total nulos: 111,390\n",
      "- Porcentaje: 12.71%\n",
      "\n",
      "Columna: endYear\n",
      "- Valores '\\N': 876,594\n",
      "- Valores NaN: 0\n",
      "- Total nulos: 876,594\n",
      "- Porcentaje: 100.00%\n",
      "\n",
      "Columna: runtimeMinutes\n",
      "- Valores '\\N': 314,612\n",
      "- Valores NaN: 0\n",
      "- Total nulos: 314,612\n",
      "- Porcentaje: 35.89%\n",
      "\n",
      "Columna: genres\n",
      "- Valores '\\N': 90,763\n",
      "- Valores NaN: 0\n",
      "- Total nulos: 90,763\n",
      "- Porcentaje: 10.35%\n",
      "\n",
      "Registros con al menos un valor nulo: 876,594 (100.00% del total)\n"
     ]
    }
   ],
   "source": [
    "# Analizar cada columna\n",
    "print(\"Análisis de valores nulos por columna:\")\n",
    "print(\"-\" * 50)\n",
    "\n",
    "for columna in df_peliculas.columns:\n",
    "    resultados = contar_nulos(df_peliculas, columna)\n",
    "    print(f\"\\nColumna: {columna}\")\n",
    "    print(f\"- Valores '\\\\N': {resultados['Valores \\\\N']:,}\")\n",
    "    print(f\"- Valores NaN: {resultados['Valores NaN']:,}\")\n",
    "    print(f\"- Total nulos: {resultados['Total Nulos']:,}\")\n",
    "    print(f\"- Porcentaje: {resultados['Porcentaje']}\")\n",
    "\n",
    "# Mostrar también cuántos registros tienen al menos un valor nulo\n",
    "registros_con_nulos = df_peliculas[df_peliculas.apply(lambda x: (x == '\\\\N').any() or x.isna().any(), axis=1)]\n",
    "print(f\"\\nRegistros con al menos un valor nulo: {len(registros_con_nulos):,} ({(len(registros_con_nulos)/len(df_peliculas)*100):.2f}% del total)\")"
   ]
  },
  {
   "cell_type": "markdown",
   "id": "4b440144",
   "metadata": {},
   "source": [
    "Limpieza de nulos.  \n",
    "Se eliminan los registros donde falten datos en columnas clave."
   ]
  },
  {
   "cell_type": "code",
   "execution_count": 10,
   "id": "156de062",
   "metadata": {},
   "outputs": [],
   "source": [
    "# Columnas a verificar\n",
    "columnas_a_filtrar = ['genres', 'primaryTitle', 'originalTitle', 'runtimeMinutes']\n",
    "\n",
    "# Crear una máscara para filtrar\n",
    "mascara = True  # Comenzamos con todos los registros\n",
    "for columna in columnas_a_filtrar:\n",
    "    # Filtrar tanto '\\N' como NaN\n",
    "    mascara = mascara & (df_peliculas[columna] != '\\\\N') & (~df_peliculas[columna].isna())\n",
    "\n",
    "# Aplicar el filtro\n",
    "df_peliculas_limpio = df_peliculas[mascara]"
   ]
  },
  {
   "cell_type": "code",
   "execution_count": 11,
   "id": "e75cb1a4",
   "metadata": {},
   "outputs": [
    {
     "name": "stdout",
     "output_type": "stream",
     "text": [
      "Registros originales: 876,594\n",
      "Registros después de eliminar nulos: 530,367\n",
      "Registros eliminados: 346,227 (39.50%)\n",
      "\n",
      "Distribución por tipo después de la limpieza:\n",
      "titleType\n",
      "movie      431138\n",
      "tvMovie     99229\n",
      "Name: count, dtype: int64\n",
      "\n",
      "Muestra de 5 registros limpios:\n"
     ]
    },
    {
     "data": {
      "text/html": [
       "<div>\n",
       "<style scoped>\n",
       "    .dataframe tbody tr th:only-of-type {\n",
       "        vertical-align: middle;\n",
       "    }\n",
       "\n",
       "    .dataframe tbody tr th {\n",
       "        vertical-align: top;\n",
       "    }\n",
       "\n",
       "    .dataframe thead th {\n",
       "        text-align: right;\n",
       "    }\n",
       "</style>\n",
       "<table border=\"1\" class=\"dataframe\">\n",
       "  <thead>\n",
       "    <tr style=\"text-align: right;\">\n",
       "      <th></th>\n",
       "      <th>primaryTitle</th>\n",
       "      <th>titleType</th>\n",
       "      <th>startYear</th>\n",
       "      <th>runtimeMinutes</th>\n",
       "      <th>genres</th>\n",
       "    </tr>\n",
       "  </thead>\n",
       "  <tbody>\n",
       "    <tr>\n",
       "      <th>0</th>\n",
       "      <td>Miss Jerry</td>\n",
       "      <td>movie</td>\n",
       "      <td>1894</td>\n",
       "      <td>45</td>\n",
       "      <td>Romance</td>\n",
       "    </tr>\n",
       "    <tr>\n",
       "      <th>1</th>\n",
       "      <td>The Corbett-Fitzsimmons Fight</td>\n",
       "      <td>movie</td>\n",
       "      <td>1897</td>\n",
       "      <td>100</td>\n",
       "      <td>Documentary,News,Sport</td>\n",
       "    </tr>\n",
       "    <tr>\n",
       "      <th>3</th>\n",
       "      <td>The Story of the Kelly Gang</td>\n",
       "      <td>movie</td>\n",
       "      <td>1906</td>\n",
       "      <td>70</td>\n",
       "      <td>Action,Adventure,Biography</td>\n",
       "    </tr>\n",
       "    <tr>\n",
       "      <th>4</th>\n",
       "      <td>The Prodigal Son</td>\n",
       "      <td>movie</td>\n",
       "      <td>1907</td>\n",
       "      <td>90</td>\n",
       "      <td>Drama</td>\n",
       "    </tr>\n",
       "    <tr>\n",
       "      <th>8</th>\n",
       "      <td>The Fairylogue and Radio-Plays</td>\n",
       "      <td>movie</td>\n",
       "      <td>1908</td>\n",
       "      <td>120</td>\n",
       "      <td>Adventure,Fantasy</td>\n",
       "    </tr>\n",
       "  </tbody>\n",
       "</table>\n",
       "</div>"
      ],
      "text/plain": [
       "                     primaryTitle titleType startYear runtimeMinutes  \\\n",
       "0                      Miss Jerry     movie      1894             45   \n",
       "1   The Corbett-Fitzsimmons Fight     movie      1897            100   \n",
       "3     The Story of the Kelly Gang     movie      1906             70   \n",
       "4                The Prodigal Son     movie      1907             90   \n",
       "8  The Fairylogue and Radio-Plays     movie      1908            120   \n",
       "\n",
       "                       genres  \n",
       "0                     Romance  \n",
       "1      Documentary,News,Sport  \n",
       "3  Action,Adventure,Biography  \n",
       "4                       Drama  \n",
       "8           Adventure,Fantasy  "
      ]
     },
     "execution_count": 11,
     "metadata": {},
     "output_type": "execute_result"
    }
   ],
   "source": [
    "# Mostrar información sobre los registros filtrados\n",
    "registros_eliminados = len(df_peliculas) - len(df_peliculas_limpio)\n",
    "print(f\"Registros originales: {len(df_peliculas):,}\")\n",
    "print(f\"Registros después de eliminar nulos: {len(df_peliculas_limpio):,}\")\n",
    "print(f\"Registros eliminados: {registros_eliminados:,} ({(registros_eliminados/len(df_peliculas)*100):.2f}%)\")\n",
    "\n",
    "print(\"\\nDistribución por tipo después de la limpieza:\")\n",
    "print(df_peliculas_limpio['titleType'].value_counts())\n",
    "\n",
    "print(\"\\nMuestra de 5 registros limpios:\")\n",
    "df_peliculas_limpio[['primaryTitle', 'titleType', 'startYear', 'runtimeMinutes', 'genres']].head()"
   ]
  },
  {
   "cell_type": "markdown",
   "id": "bb8873ad",
   "metadata": {},
   "source": [
    "Filtra solo películas del año 2019 que no sean para adultos."
   ]
  },
  {
   "cell_type": "code",
   "execution_count": 12,
   "id": "5a71d25f",
   "metadata": {},
   "outputs": [],
   "source": [
    "# Filtrar películas del 2019\n",
    "df_peliculas_filtrado = df_peliculas_limpio[\n",
    "    (df_peliculas_limpio['startYear'] == '2019') & \n",
    "    (df_peliculas_limpio['isAdult'] == 0)]"
   ]
  },
  {
   "cell_type": "code",
   "execution_count": 13,
   "id": "267cca71",
   "metadata": {},
   "outputs": [
    {
     "name": "stdout",
     "output_type": "stream",
     "text": [
      "Total de películas del 2019: 16,810\n",
      "\n",
      "Distribución por tipo:\n",
      "titleType\n",
      "movie      14615\n",
      "tvMovie     2195\n",
      "Name: count, dtype: int64\n",
      "\n",
      "Estadísticas de duración (en minutos):\n",
      "count    16810.000000\n",
      "mean        93.533314\n",
      "std        514.964989\n",
      "min          1.000000\n",
      "25%         70.000000\n",
      "50%         88.000000\n",
      "75%        101.000000\n",
      "max      59460.000000\n",
      "Name: runtimeMinutes, dtype: float64\n"
     ]
    }
   ],
   "source": [
    "print(f\"Total de películas del 2019: {len(df_peliculas_filtrado):,}\")\n",
    "print(\"\\nDistribución por tipo:\")\n",
    "print(df_peliculas_filtrado['titleType'].value_counts())\n",
    "\n",
    "print(\"\\nEstadísticas de duración (en minutos):\")\n",
    "print(df_peliculas_filtrado['runtimeMinutes'].astype(float).describe())\n"
   ]
  },
  {
   "cell_type": "code",
   "execution_count": 14,
   "id": "d61f25e6",
   "metadata": {},
   "outputs": [
    {
     "name": "stdout",
     "output_type": "stream",
     "text": [
      "\n",
      "Muestra de películas del 2019:\n"
     ]
    },
    {
     "data": {
      "text/html": [
       "<div>\n",
       "<style scoped>\n",
       "    .dataframe tbody tr th:only-of-type {\n",
       "        vertical-align: middle;\n",
       "    }\n",
       "\n",
       "    .dataframe tbody tr th {\n",
       "        vertical-align: top;\n",
       "    }\n",
       "\n",
       "    .dataframe thead th {\n",
       "        text-align: right;\n",
       "    }\n",
       "</style>\n",
       "<table border=\"1\" class=\"dataframe\">\n",
       "  <thead>\n",
       "    <tr style=\"text-align: right;\">\n",
       "      <th></th>\n",
       "      <th>tconst</th>\n",
       "      <th>titleType</th>\n",
       "      <th>primaryTitle</th>\n",
       "      <th>originalTitle</th>\n",
       "      <th>startYear</th>\n",
       "      <th>endYear</th>\n",
       "      <th>runtimeMinutes</th>\n",
       "      <th>genres</th>\n",
       "    </tr>\n",
       "  </thead>\n",
       "  <tbody>\n",
       "    <tr>\n",
       "      <th>87763</th>\n",
       "      <td>tt0116991</td>\n",
       "      <td>movie</td>\n",
       "      <td>Mariette in Ecstasy</td>\n",
       "      <td>Mariette in Ecstasy</td>\n",
       "      <td>2019</td>\n",
       "      <td>\\N</td>\n",
       "      <td>101</td>\n",
       "      <td>Drama</td>\n",
       "    </tr>\n",
       "    <tr>\n",
       "      <th>217353</th>\n",
       "      <td>tt0385887</td>\n",
       "      <td>movie</td>\n",
       "      <td>Motherless Brooklyn</td>\n",
       "      <td>Motherless Brooklyn</td>\n",
       "      <td>2019</td>\n",
       "      <td>\\N</td>\n",
       "      <td>144</td>\n",
       "      <td>Crime,Drama,Mystery</td>\n",
       "    </tr>\n",
       "    <tr>\n",
       "      <th>233764</th>\n",
       "      <td>tt0437086</td>\n",
       "      <td>movie</td>\n",
       "      <td>Alita: Battle Angel</td>\n",
       "      <td>Alita: Battle Angel</td>\n",
       "      <td>2019</td>\n",
       "      <td>\\N</td>\n",
       "      <td>122</td>\n",
       "      <td>Action,Adventure,Sci-Fi</td>\n",
       "    </tr>\n",
       "    <tr>\n",
       "      <th>235270</th>\n",
       "      <td>tt0441881</td>\n",
       "      <td>movie</td>\n",
       "      <td>Danger Close</td>\n",
       "      <td>Danger Close: The Battle of Long Tan</td>\n",
       "      <td>2019</td>\n",
       "      <td>\\N</td>\n",
       "      <td>118</td>\n",
       "      <td>Action,Drama,War</td>\n",
       "    </tr>\n",
       "    <tr>\n",
       "      <th>237327</th>\n",
       "      <td>tt0448115</td>\n",
       "      <td>movie</td>\n",
       "      <td>Shazam!</td>\n",
       "      <td>Shazam!</td>\n",
       "      <td>2019</td>\n",
       "      <td>\\N</td>\n",
       "      <td>132</td>\n",
       "      <td>Action,Adventure,Comedy</td>\n",
       "    </tr>\n",
       "    <tr>\n",
       "      <th>254146</th>\n",
       "      <td>tt0783640</td>\n",
       "      <td>movie</td>\n",
       "      <td>The Last Full Measure</td>\n",
       "      <td>The Last Full Measure</td>\n",
       "      <td>2019</td>\n",
       "      <td>\\N</td>\n",
       "      <td>116</td>\n",
       "      <td>Drama,War</td>\n",
       "    </tr>\n",
       "    <tr>\n",
       "      <th>254769</th>\n",
       "      <td>tt0791072</td>\n",
       "      <td>movie</td>\n",
       "      <td>Enemigo</td>\n",
       "      <td>Enemigo</td>\n",
       "      <td>2019</td>\n",
       "      <td>\\N</td>\n",
       "      <td>93</td>\n",
       "      <td>Drama</td>\n",
       "    </tr>\n",
       "    <tr>\n",
       "      <th>255734</th>\n",
       "      <td>tt0800325</td>\n",
       "      <td>movie</td>\n",
       "      <td>The Dirt</td>\n",
       "      <td>The Dirt</td>\n",
       "      <td>2019</td>\n",
       "      <td>\\N</td>\n",
       "      <td>107</td>\n",
       "      <td>Biography,Comedy,Drama</td>\n",
       "    </tr>\n",
       "    <tr>\n",
       "      <th>256662</th>\n",
       "      <td>tt0810836</td>\n",
       "      <td>movie</td>\n",
       "      <td>Dirt Music</td>\n",
       "      <td>Dirt Music</td>\n",
       "      <td>2019</td>\n",
       "      <td>\\N</td>\n",
       "      <td>105</td>\n",
       "      <td>Crime,Drama,Romance</td>\n",
       "    </tr>\n",
       "    <tr>\n",
       "      <th>259568</th>\n",
       "      <td>tt0837563</td>\n",
       "      <td>movie</td>\n",
       "      <td>Pet Sematary</td>\n",
       "      <td>Pet Sematary</td>\n",
       "      <td>2019</td>\n",
       "      <td>\\N</td>\n",
       "      <td>100</td>\n",
       "      <td>Horror,Mystery,Thriller</td>\n",
       "    </tr>\n",
       "  </tbody>\n",
       "</table>\n",
       "</div>"
      ],
      "text/plain": [
       "           tconst titleType           primaryTitle  \\\n",
       "87763   tt0116991     movie    Mariette in Ecstasy   \n",
       "217353  tt0385887     movie    Motherless Brooklyn   \n",
       "233764  tt0437086     movie    Alita: Battle Angel   \n",
       "235270  tt0441881     movie           Danger Close   \n",
       "237327  tt0448115     movie                Shazam!   \n",
       "254146  tt0783640     movie  The Last Full Measure   \n",
       "254769  tt0791072     movie                Enemigo   \n",
       "255734  tt0800325     movie               The Dirt   \n",
       "256662  tt0810836     movie             Dirt Music   \n",
       "259568  tt0837563     movie           Pet Sematary   \n",
       "\n",
       "                               originalTitle startYear endYear runtimeMinutes  \\\n",
       "87763                    Mariette in Ecstasy      2019      \\N            101   \n",
       "217353                   Motherless Brooklyn      2019      \\N            144   \n",
       "233764                   Alita: Battle Angel      2019      \\N            122   \n",
       "235270  Danger Close: The Battle of Long Tan      2019      \\N            118   \n",
       "237327                               Shazam!      2019      \\N            132   \n",
       "254146                 The Last Full Measure      2019      \\N            116   \n",
       "254769                               Enemigo      2019      \\N             93   \n",
       "255734                              The Dirt      2019      \\N            107   \n",
       "256662                            Dirt Music      2019      \\N            105   \n",
       "259568                          Pet Sematary      2019      \\N            100   \n",
       "\n",
       "                         genres  \n",
       "87763                     Drama  \n",
       "217353      Crime,Drama,Mystery  \n",
       "233764  Action,Adventure,Sci-Fi  \n",
       "235270         Action,Drama,War  \n",
       "237327  Action,Adventure,Comedy  \n",
       "254146                Drama,War  \n",
       "254769                    Drama  \n",
       "255734   Biography,Comedy,Drama  \n",
       "256662      Crime,Drama,Romance  \n",
       "259568  Horror,Mystery,Thriller  "
      ]
     },
     "execution_count": 14,
     "metadata": {},
     "output_type": "execute_result"
    }
   ],
   "source": [
    "df_peliculas_filtrado = df_peliculas_filtrado.drop(columns=[\"isAdult\"])   #, \"endYear\"\n",
    "\n",
    "print(\"\\nMuestra de películas del 2019:\")\n",
    "df_peliculas_filtrado.head(10)"
   ]
  },
  {
   "cell_type": "code",
   "execution_count": 15,
   "id": "00ca3dbf",
   "metadata": {},
   "outputs": [
    {
     "name": "stdout",
     "output_type": "stream",
     "text": [
      "Archivo guardado: peliculas_2019.csv\n"
     ]
    }
   ],
   "source": [
    "DatasetManager().guardar_csv(df_peliculas_filtrado, \"peliculas_2019.csv\")"
   ]
  },
  {
   "cell_type": "markdown",
   "id": "714b8940",
   "metadata": {},
   "source": [
    "## ACA SE HACE UN LIMPIEZA EN BASE A LOS IDS DE LAS PELICULAS.... hay que revisar"
   ]
  },
  {
   "cell_type": "code",
   "execution_count": 16,
   "id": "cf058ae2",
   "metadata": {},
   "outputs": [],
   "source": [
    "ids_peliculas = df_peliculas_filtrado['tconst']"
   ]
  },
  {
   "cell_type": "code",
   "execution_count": 17,
   "id": "d4893ebf",
   "metadata": {},
   "outputs": [],
   "source": [
    "# Función para filtrar chunks basado en los IDs\n",
    "def filtrar_por_ids(chunk):\n",
    "    return chunk[chunk['tconst'].isin(ids_peliculas)]"
   ]
  },
  {
   "cell_type": "code",
   "execution_count": 18,
   "id": "74261a1f",
   "metadata": {},
   "outputs": [
    {
     "name": "stdout",
     "output_type": "stream",
     "text": [
      "Filtrando críticas...\n"
     ]
    }
   ],
   "source": [
    "# Filtrar tabla de críticas\n",
    "print(\"Filtrando críticas...\")\n",
    "chunks_filtrados = []\n",
    "criticas_iterable = DatasetManager().leer_tsv_chunks(RUTA_CRITICAS)\n",
    "for chunk in criticas_iterable:\n",
    "    filtrado = filtrar_por_ids(chunk)\n",
    "    if not filtrado.empty:\n",
    "        chunks_filtrados.append(filtrado)\n",
    "df_criticas_filtrado = pd.concat(chunks_filtrados, ignore_index=True) if chunks_filtrados else pd.DataFrame()"
   ]
  },
  {
   "cell_type": "code",
   "execution_count": 19,
   "id": "1a1ddc6d",
   "metadata": {},
   "outputs": [
    {
     "name": "stdout",
     "output_type": "stream",
     "text": [
      "Filtrando personal...\n"
     ]
    }
   ],
   "source": [
    "# Filtrar tabla de personal\n",
    "print(\"Filtrando personal...\")\n",
    "chunks_filtrados = []\n",
    "personal_iterable = DatasetManager().leer_tsv_chunks(RUTA_PERSONAL)\n",
    "for chunk in personal_iterable:\n",
    "    filtrado = filtrar_por_ids(chunk)\n",
    "    if not filtrado.empty:\n",
    "        chunks_filtrados.append(filtrado)\n",
    "df_personal_filtrado = pd.concat(chunks_filtrados, ignore_index=True) if chunks_filtrados else pd.DataFrame()"
   ]
  },
  {
   "cell_type": "code",
   "execution_count": 20,
   "id": "cfda8abd",
   "metadata": {},
   "outputs": [
    {
     "name": "stdout",
     "output_type": "stream",
     "text": [
      "Filtrando principales...\n"
     ]
    }
   ],
   "source": [
    "# Filtrar tabla de principales\n",
    "print(\"Filtrando principales...\")\n",
    "chunks_filtrados = []\n",
    "principales_iterable = DatasetManager().leer_tsv_chunks(RUTA_PRINCIPALES)\n",
    "for chunk in principales_iterable:\n",
    "    filtrado = filtrar_por_ids(chunk)\n",
    "    if not filtrado.empty:\n",
    "        chunks_filtrados.append(filtrado)\n",
    "df_principales_filtrado = pd.concat(chunks_filtrados, ignore_index=True) if chunks_filtrados else pd.DataFrame()"
   ]
  },
  {
   "cell_type": "code",
   "execution_count": 21,
   "id": "9860a68b",
   "metadata": {},
   "outputs": [
    {
     "name": "stdout",
     "output_type": "stream",
     "text": [
      "Filtrando nombres...\n"
     ]
    },
    {
     "ename": "KeyError",
     "evalue": "'tconst'",
     "output_type": "error",
     "traceback": [
      "\u001b[31m---------------------------------------------------------------------------\u001b[39m",
      "\u001b[31mKeyError\u001b[39m                                  Traceback (most recent call last)",
      "\u001b[36mFile \u001b[39m\u001b[32mc:\\Users\\melod\\Downloads\\Base de Datos\\TPFinal\\g5-backend\\.venv\\Lib\\site-packages\\pandas\\core\\indexes\\base.py:3812\u001b[39m, in \u001b[36mIndex.get_loc\u001b[39m\u001b[34m(self, key)\u001b[39m\n\u001b[32m   3811\u001b[39m \u001b[38;5;28;01mtry\u001b[39;00m:\n\u001b[32m-> \u001b[39m\u001b[32m3812\u001b[39m     \u001b[38;5;28;01mreturn\u001b[39;00m \u001b[38;5;28;43mself\u001b[39;49m\u001b[43m.\u001b[49m\u001b[43m_engine\u001b[49m\u001b[43m.\u001b[49m\u001b[43mget_loc\u001b[49m\u001b[43m(\u001b[49m\u001b[43mcasted_key\u001b[49m\u001b[43m)\u001b[49m\n\u001b[32m   3813\u001b[39m \u001b[38;5;28;01mexcept\u001b[39;00m \u001b[38;5;167;01mKeyError\u001b[39;00m \u001b[38;5;28;01mas\u001b[39;00m err:\n",
      "\u001b[36mFile \u001b[39m\u001b[32mpandas/_libs/index.pyx:167\u001b[39m, in \u001b[36mpandas._libs.index.IndexEngine.get_loc\u001b[39m\u001b[34m()\u001b[39m\n",
      "\u001b[36mFile \u001b[39m\u001b[32mpandas/_libs/index.pyx:196\u001b[39m, in \u001b[36mpandas._libs.index.IndexEngine.get_loc\u001b[39m\u001b[34m()\u001b[39m\n",
      "\u001b[36mFile \u001b[39m\u001b[32mpandas/_libs/hashtable_class_helper.pxi:7088\u001b[39m, in \u001b[36mpandas._libs.hashtable.PyObjectHashTable.get_item\u001b[39m\u001b[34m()\u001b[39m\n",
      "\u001b[36mFile \u001b[39m\u001b[32mpandas/_libs/hashtable_class_helper.pxi:7096\u001b[39m, in \u001b[36mpandas._libs.hashtable.PyObjectHashTable.get_item\u001b[39m\u001b[34m()\u001b[39m\n",
      "\u001b[31mKeyError\u001b[39m: 'tconst'",
      "\nThe above exception was the direct cause of the following exception:\n",
      "\u001b[31mKeyError\u001b[39m                                  Traceback (most recent call last)",
      "\u001b[36mCell\u001b[39m\u001b[36m \u001b[39m\u001b[32mIn[21]\u001b[39m\u001b[32m, line 8\u001b[39m\n\u001b[32m      6\u001b[39m nombres_iterable = DatasetManager().leer_tsv_chunks(RUTA_NOMBRE)\n\u001b[32m      7\u001b[39m \u001b[38;5;28;01mfor\u001b[39;00m chunk \u001b[38;5;129;01min\u001b[39;00m nombres_iterable:\n\u001b[32m----> \u001b[39m\u001b[32m8\u001b[39m     filtrado = \u001b[43mfiltrar_por_ids\u001b[49m\u001b[43m(\u001b[49m\u001b[43mchunk\u001b[49m\u001b[43m)\u001b[49m\n\u001b[32m      9\u001b[39m     \u001b[38;5;28;01mif\u001b[39;00m \u001b[38;5;129;01mnot\u001b[39;00m filtrado.empty:\n\u001b[32m     10\u001b[39m         chunks_filtrados.append(filtrado)\n",
      "\u001b[36mCell\u001b[39m\u001b[36m \u001b[39m\u001b[32mIn[17]\u001b[39m\u001b[32m, line 3\u001b[39m, in \u001b[36mfiltrar_por_ids\u001b[39m\u001b[34m(chunk)\u001b[39m\n\u001b[32m      2\u001b[39m \u001b[38;5;28;01mdef\u001b[39;00m\u001b[38;5;250m \u001b[39m\u001b[34mfiltrar_por_ids\u001b[39m(chunk):\n\u001b[32m----> \u001b[39m\u001b[32m3\u001b[39m     \u001b[38;5;28;01mreturn\u001b[39;00m chunk[\u001b[43mchunk\u001b[49m\u001b[43m[\u001b[49m\u001b[33;43m'\u001b[39;49m\u001b[33;43mtconst\u001b[39;49m\u001b[33;43m'\u001b[39;49m\u001b[43m]\u001b[49m.isin(ids_peliculas)]\n",
      "\u001b[36mFile \u001b[39m\u001b[32mc:\\Users\\melod\\Downloads\\Base de Datos\\TPFinal\\g5-backend\\.venv\\Lib\\site-packages\\pandas\\core\\frame.py:4107\u001b[39m, in \u001b[36mDataFrame.__getitem__\u001b[39m\u001b[34m(self, key)\u001b[39m\n\u001b[32m   4105\u001b[39m \u001b[38;5;28;01mif\u001b[39;00m \u001b[38;5;28mself\u001b[39m.columns.nlevels > \u001b[32m1\u001b[39m:\n\u001b[32m   4106\u001b[39m     \u001b[38;5;28;01mreturn\u001b[39;00m \u001b[38;5;28mself\u001b[39m._getitem_multilevel(key)\n\u001b[32m-> \u001b[39m\u001b[32m4107\u001b[39m indexer = \u001b[38;5;28;43mself\u001b[39;49m\u001b[43m.\u001b[49m\u001b[43mcolumns\u001b[49m\u001b[43m.\u001b[49m\u001b[43mget_loc\u001b[49m\u001b[43m(\u001b[49m\u001b[43mkey\u001b[49m\u001b[43m)\u001b[49m\n\u001b[32m   4108\u001b[39m \u001b[38;5;28;01mif\u001b[39;00m is_integer(indexer):\n\u001b[32m   4109\u001b[39m     indexer = [indexer]\n",
      "\u001b[36mFile \u001b[39m\u001b[32mc:\\Users\\melod\\Downloads\\Base de Datos\\TPFinal\\g5-backend\\.venv\\Lib\\site-packages\\pandas\\core\\indexes\\base.py:3819\u001b[39m, in \u001b[36mIndex.get_loc\u001b[39m\u001b[34m(self, key)\u001b[39m\n\u001b[32m   3814\u001b[39m     \u001b[38;5;28;01mif\u001b[39;00m \u001b[38;5;28misinstance\u001b[39m(casted_key, \u001b[38;5;28mslice\u001b[39m) \u001b[38;5;129;01mor\u001b[39;00m (\n\u001b[32m   3815\u001b[39m         \u001b[38;5;28misinstance\u001b[39m(casted_key, abc.Iterable)\n\u001b[32m   3816\u001b[39m         \u001b[38;5;129;01mand\u001b[39;00m \u001b[38;5;28many\u001b[39m(\u001b[38;5;28misinstance\u001b[39m(x, \u001b[38;5;28mslice\u001b[39m) \u001b[38;5;28;01mfor\u001b[39;00m x \u001b[38;5;129;01min\u001b[39;00m casted_key)\n\u001b[32m   3817\u001b[39m     ):\n\u001b[32m   3818\u001b[39m         \u001b[38;5;28;01mraise\u001b[39;00m InvalidIndexError(key)\n\u001b[32m-> \u001b[39m\u001b[32m3819\u001b[39m     \u001b[38;5;28;01mraise\u001b[39;00m \u001b[38;5;167;01mKeyError\u001b[39;00m(key) \u001b[38;5;28;01mfrom\u001b[39;00m\u001b[38;5;250m \u001b[39m\u001b[34;01merr\u001b[39;00m\n\u001b[32m   3820\u001b[39m \u001b[38;5;28;01mexcept\u001b[39;00m \u001b[38;5;167;01mTypeError\u001b[39;00m:\n\u001b[32m   3821\u001b[39m     \u001b[38;5;66;03m# If we have a listlike key, _check_indexing_error will raise\u001b[39;00m\n\u001b[32m   3822\u001b[39m     \u001b[38;5;66;03m#  InvalidIndexError. Otherwise we fall through and re-raise\u001b[39;00m\n\u001b[32m   3823\u001b[39m     \u001b[38;5;66;03m#  the TypeError.\u001b[39;00m\n\u001b[32m   3824\u001b[39m     \u001b[38;5;28mself\u001b[39m._check_indexing_error(key)\n",
      "\u001b[31mKeyError\u001b[39m: 'tconst'"
     ]
    }
   ],
   "source": [
    "#TODO: TIRA ERROR\n",
    "\n",
    "# Filtrar tabla de nombres\n",
    "print(\"Filtrando nombres...\")\n",
    "chunks_filtrados = []\n",
    "nombres_iterable = DatasetManager().leer_tsv_chunks(RUTA_NOMBRE)\n",
    "for chunk in nombres_iterable:\n",
    "    filtrado = filtrar_por_ids(chunk)\n",
    "    if not filtrado.empty:\n",
    "        chunks_filtrados.append(filtrado)\n",
    "df_nombres_filtrado = pd.concat(chunks_filtrados, ignore_index=True) if chunks_filtrados else pd.DataFrame()"
   ]
  },
  {
   "cell_type": "code",
   "execution_count": 22,
   "id": "fcc0aa20",
   "metadata": {},
   "outputs": [
    {
     "data": {
      "text/html": [
       "<div>\n",
       "<style scoped>\n",
       "    .dataframe tbody tr th:only-of-type {\n",
       "        vertical-align: middle;\n",
       "    }\n",
       "\n",
       "    .dataframe tbody tr th {\n",
       "        vertical-align: top;\n",
       "    }\n",
       "\n",
       "    .dataframe thead th {\n",
       "        text-align: right;\n",
       "    }\n",
       "</style>\n",
       "<table border=\"1\" class=\"dataframe\">\n",
       "  <thead>\n",
       "    <tr style=\"text-align: right;\">\n",
       "      <th></th>\n",
       "      <th>tconst</th>\n",
       "      <th>directors</th>\n",
       "      <th>writers</th>\n",
       "    </tr>\n",
       "  </thead>\n",
       "  <tbody>\n",
       "    <tr>\n",
       "      <th>0</th>\n",
       "      <td>tt0116991</td>\n",
       "      <td>nm0007037</td>\n",
       "      <td>nm0361069</td>\n",
       "    </tr>\n",
       "    <tr>\n",
       "      <th>1</th>\n",
       "      <td>tt0385887</td>\n",
       "      <td>nm0001570</td>\n",
       "      <td>nm0001570,nm0504672</td>\n",
       "    </tr>\n",
       "    <tr>\n",
       "      <th>2</th>\n",
       "      <td>tt0437086</td>\n",
       "      <td>nm0001675</td>\n",
       "      <td>nm0000116,nm0436164,nm1738737</td>\n",
       "    </tr>\n",
       "    <tr>\n",
       "      <th>3</th>\n",
       "      <td>tt0441881</td>\n",
       "      <td>nm0826541</td>\n",
       "      <td>nm0064181,nm1792356,nm1764825,nm0838283,nm4870103</td>\n",
       "    </tr>\n",
       "    <tr>\n",
       "      <th>4</th>\n",
       "      <td>tt0448115</td>\n",
       "      <td>nm2497546</td>\n",
       "      <td>nm2849655,nm0501359,nm1791910,nm1304148</td>\n",
       "    </tr>\n",
       "    <tr>\n",
       "      <th>5</th>\n",
       "      <td>tt0783640</td>\n",
       "      <td>nm0733149</td>\n",
       "      <td>nm0733149</td>\n",
       "    </tr>\n",
       "    <tr>\n",
       "      <th>6</th>\n",
       "      <td>tt0791072</td>\n",
       "      <td>nm0479586</td>\n",
       "      <td>nm0479586</td>\n",
       "    </tr>\n",
       "    <tr>\n",
       "      <th>7</th>\n",
       "      <td>tt0800325</td>\n",
       "      <td>nm0871860</td>\n",
       "      <td>nm0929186,nm5287325,nm0005136,nm1016427,nm0624...</td>\n",
       "    </tr>\n",
       "    <tr>\n",
       "      <th>8</th>\n",
       "      <td>tt0810836</td>\n",
       "      <td>nm0429963</td>\n",
       "      <td>nm2113666,nm0936090</td>\n",
       "    </tr>\n",
       "    <tr>\n",
       "      <th>9</th>\n",
       "      <td>tt0837563</td>\n",
       "      <td>nm1556116,nm1552637</td>\n",
       "      <td>nm0000175,nm0338557,nm1161528</td>\n",
       "    </tr>\n",
       "  </tbody>\n",
       "</table>\n",
       "</div>"
      ],
      "text/plain": [
       "      tconst            directors  \\\n",
       "0  tt0116991            nm0007037   \n",
       "1  tt0385887            nm0001570   \n",
       "2  tt0437086            nm0001675   \n",
       "3  tt0441881            nm0826541   \n",
       "4  tt0448115            nm2497546   \n",
       "5  tt0783640            nm0733149   \n",
       "6  tt0791072            nm0479586   \n",
       "7  tt0800325            nm0871860   \n",
       "8  tt0810836            nm0429963   \n",
       "9  tt0837563  nm1556116,nm1552637   \n",
       "\n",
       "                                             writers  \n",
       "0                                          nm0361069  \n",
       "1                                nm0001570,nm0504672  \n",
       "2                      nm0000116,nm0436164,nm1738737  \n",
       "3  nm0064181,nm1792356,nm1764825,nm0838283,nm4870103  \n",
       "4            nm2849655,nm0501359,nm1791910,nm1304148  \n",
       "5                                          nm0733149  \n",
       "6                                          nm0479586  \n",
       "7  nm0929186,nm5287325,nm0005136,nm1016427,nm0624...  \n",
       "8                                nm2113666,nm0936090  \n",
       "9                      nm0000175,nm0338557,nm1161528  "
      ]
     },
     "execution_count": 22,
     "metadata": {},
     "output_type": "execute_result"
    }
   ],
   "source": [
    "df_personal_filtrado.head(10)"
   ]
  },
  {
   "cell_type": "code",
   "execution_count": 23,
   "id": "1efbab82",
   "metadata": {},
   "outputs": [
    {
     "name": "stdout",
     "output_type": "stream",
     "text": [
      "Archivo guardado: criticas_2019.csv\n",
      "Archivo guardado: personal_2019.csv\n",
      "Archivo guardado: principales_2019.csv\n"
     ]
    }
   ],
   "source": [
    "DatasetManager().guardar_csv(df_criticas_filtrado, \"criticas_2019.csv\")\n",
    "DatasetManager().guardar_csv(df_personal_filtrado, \"personal_2019.csv\")\n",
    "#guardar_csv(df_nombres_filtrado, \"nombres_2019.csv\")\n",
    "DatasetManager().guardar_csv(df_principales_filtrado, \"principales_2019.csv\")"
   ]
  }
 ],
 "metadata": {
  "kernelspec": {
   "display_name": ".venv (3.12.3)",
   "language": "python",
   "name": "python3"
  },
  "language_info": {
   "codemirror_mode": {
    "name": "ipython",
    "version": 3
   },
   "file_extension": ".py",
   "mimetype": "text/x-python",
   "name": "python",
   "nbconvert_exporter": "python",
   "pygments_lexer": "ipython3",
   "version": "3.12.3"
  }
 },
 "nbformat": 4,
 "nbformat_minor": 5
}
