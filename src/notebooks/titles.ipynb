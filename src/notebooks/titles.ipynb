{
 "cells": [
  {
   "cell_type": "code",
   "execution_count": 1,
   "id": "1aee073d",
   "metadata": {},
   "outputs": [],
   "source": [
    "import pandas as pd\n",
    "import os\n",
    "import sys \n",
    "import importlib"
   ]
  },
  {
   "cell_type": "code",
   "execution_count": 2,
   "id": "93cfe821",
   "metadata": {},
   "outputs": [],
   "source": [
    "# Subo dos niveles desde data_analysis -> src -> g5-backend\n",
    "sys.path.append(os.path.abspath(os.path.join(os.getcwd(), \"../..\")))"
   ]
  },
  {
   "cell_type": "code",
   "execution_count": 3,
   "id": "7fcfeb07",
   "metadata": {},
   "outputs": [],
   "source": [
    "from src.paths import RUTA_TITULO\n",
    "from src.paths import DIR_DATA_PROCESADA\n",
    "#from src.helpers import leer_tsv_chunks\n",
    "\n",
    "\n",
    "#! Lo siguiente es para que me tome los cambios realizados mientras actualizo la clase\n",
    "import src.helpers\n",
    "importlib.reload(src.helpers)\n",
    "from src.helpers import DataCleaner"
   ]
  },
  {
   "cell_type": "code",
   "execution_count": 4,
   "id": "9838e56d",
   "metadata": {},
   "outputs": [],
   "source": [
    "from src.paths import RUTA_PERSONAL\n",
    "from src.paths import RUTA_CRITICAS\n",
    "from src.paths import RUTA_PRINCIPALES\n",
    "from src.paths import RUTA_NOMBRE"
   ]
  },
  {
   "cell_type": "markdown",
   "id": "df9eb5d0",
   "metadata": {},
   "source": [
    "Muestro la cantidad y tipos de títulos encontrados"
   ]
  },
  {
   "cell_type": "code",
   "execution_count": 5,
   "id": "b1eed316",
   "metadata": {},
   "outputs": [],
   "source": [
    "cleaner=DataCleaner(RUTA_TITULO, DIR_DATA_PROCESADA)"
   ]
  },
  {
   "cell_type": "code",
   "execution_count": 6,
   "id": "0feeed33",
   "metadata": {},
   "outputs": [
    {
     "name": "stdout",
     "output_type": "stream",
     "text": [
      "Tipos de títulos únicos encontrados:\n",
      "- movie\n",
      "- short\n",
      "- tvEpisode\n",
      "- tvMiniSeries\n",
      "- tvMovie\n",
      "- tvPilot\n",
      "- tvSeries\n",
      "- tvShort\n",
      "- tvSpecial\n",
      "- video\n",
      "- videoGame\n",
      "\n",
      " Cantidad total de tipos de títulos: 11\n"
     ]
    }
   ],
   "source": [
    "lista_tipos=cleaner.valores_unicos_columna('titleType')\n",
    "\n",
    "print(\"Tipos de títulos únicos encontrados:\")\n",
    "for tipo in lista_tipos:\n",
    "    print(f\"- {tipo}\")\n",
    "\n",
    "print(f'\\n Cantidad total de tipos de títulos: {len(lista_tipos)}')"
   ]
  },
  {
   "cell_type": "markdown",
   "id": "42a3c8a0",
   "metadata": {},
   "source": [
    "Filtro 5 títulos de *short, tvMovie, tvShort, tvSpecial*"
   ]
  },
  {
   "cell_type": "code",
   "execution_count": 7,
   "id": "38f40fe0",
   "metadata": {},
   "outputs": [
    {
     "name": "stdout",
     "output_type": "stream",
     "text": [
      "\n",
      "=== SHORT ===\n",
      "Título Original                     | Año Inicio | Duración | Géneros\n",
      "---------------------------------------------------------------------\n",
      "Carmencita                          | 1894       | 1        | Documentary,Short\n",
      "Le clown et ses chiens              | 1892       | 5        | Animation,Short\n",
      "Pauvre Pierrot                      | 1892       | 5        | Animation,Comedy,Romance\n",
      "Un bon bock                         | 1892       | 12       | Animation,Short\n",
      "Blacksmith Scene                    | 1893       | 1        | Short\n",
      "\n",
      "=== TVMOVIE ===\n",
      "Título Original                     | Año Inicio | Duración | Géneros\n",
      "---------------------------------------------------------------------\n",
      "Julius Caesar                       | 1938       | 101      | Drama,History\n",
      "As You Like It                      | 1946       | \\N       | Drama\n",
      "A Midsummer Night's Dream           | 1946       | 150      | Drama,Fantasy\n",
      "Hamlet Part 1                       | 1947       | 88       | Drama\n",
      "The Merchant of Venice              | 1947       | 90       | Drama\n",
      "\n",
      "=== TVSHORT ===\n",
      "Título Original                     | Año Inicio | Duración | Géneros\n",
      "---------------------------------------------------------------------\n",
      "Much Ado About Nothing              | 1937       | 10       | Comedy,Romance,Short\n",
      "The Sun Was Setting                 | 1951       | 20       | Drama,Short\n",
      "The Indiscreet Mrs. Jarvis          | 1955       | 25       | Drama,Short\n",
      "Herr Sleeman kommer                 | 1957       | 43       | Drama,Short\n",
      "Poet's London                       | 1959       | 12       | Documentary,Short\n",
      "\n",
      "=== TVSPECIAL ===\n",
      "Título Original                     | Año Inicio | Duración | Géneros\n",
      "---------------------------------------------------------------------\n",
      "The Bob Hope Vietnam Christmas Show | 1966       | \\N       | Comedy,Documentary,Music\n",
      "Doug Henning's World of Magic       | 1976       | 60       | Family,Fantasy\n",
      "Boom Boom, Out Go the Lights        | 1981       | 30       | Comedy\n",
      "The Mondo Beyondo Show              | 1988       | 60       | Comedy,Music\n",
      "Eddie Murphy: Delirious             | 1983       | 69       | Comedy,Documentary\n"
     ]
    }
   ],
   "source": [
    "# Lista de tipos que queremos filtrar\n",
    "tipos_buscados = ['short', 'tvMovie', 'tvShort', 'tvSpecial']\n",
    "\n",
    "# Diccionario para almacenar los resultados de cada tipo\n",
    "resultados = {tipo: [] for tipo in tipos_buscados}\n",
    "\n",
    "# Leer chunks y filtrar\n",
    "titulos_iterable = cleaner.leer_tsv_chunks(cleaner.ruta_archivo)\n",
    "\n",
    "for chunk in titulos_iterable:\n",
    "    for tipo in tipos_buscados:\n",
    "        # Si aún no tenemos 5 registros de este tipo, buscamos más\n",
    "        if len(resultados[tipo]) < 5:\n",
    "            filtrados = chunk[chunk['titleType'] == tipo]\n",
    "            # Tomamos solo los que faltan hasta llegar a 5\n",
    "            resultados[tipo].extend(filtrados.head(5 - len(resultados[tipo])).to_dict('records'))\n",
    "\n",
    "    # Verificar si ya tenemos 5 de cada tipo\n",
    "    if all(len(registros) >= 5 for registros in resultados.values()):\n",
    "        break\n",
    "\n",
    "# Mostrar resultados con tabla alineada\n",
    "for tipo in tipos_buscados:\n",
    "    print(f\"\\n=== {tipo.upper()} ===\")\n",
    "    header = f\"{'Título Original':<35} | {'Año Inicio':<10} | {'Duración':<8} | Géneros\"\n",
    "    print(header)\n",
    "    print(\"-\" * len(header))\n",
    "\n",
    "    for registro in resultados[tipo]:\n",
    "        titulo = registro['originalTitle'][:35]  # Limitar a 35 caracteres\n",
    "        anio = registro['startYear']\n",
    "        duracion = registro['runtimeMinutes']\n",
    "        generos = registro['genres']\n",
    "        print(f\"{titulo:<35} | {anio:<10} | {duracion:<8} | {generos}\")"
   ]
  },
  {
   "cell_type": "markdown",
   "id": "0892d732",
   "metadata": {},
   "source": [
    "Filtramos sólo las películas.  \n",
    "De todo el dataset, guarda solo películas y TV movies"
   ]
  },
  {
   "cell_type": "code",
   "execution_count": 8,
   "id": "39f7691f",
   "metadata": {},
   "outputs": [
    {
     "name": "stdout",
     "output_type": "stream",
     "text": [
      "Total de registros filtrados: 876594\n",
      "\n",
      "Distribución por tipo:\n",
      "titleType\n",
      "movie      724491\n",
      "tvMovie    152103\n",
      "Name: count, dtype: int64\n"
     ]
    }
   ],
   "source": [
    "# Tipos de películas que queremos mantener\n",
    "tipos_peliculas = {\"titleType\": [\"movie\", \"tvMovie\"]}\n",
    "\n",
    "df_peliculas=cleaner.limpiar(filtros=tipos_peliculas)\n",
    "\n",
    "# Mostrar información general\n",
    "print(f\"Total de registros filtrados: {len(df_peliculas)}\")\n",
    "print(\"\\nDistribución por tipo:\")\n",
    "print(df_peliculas['titleType'].value_counts())"
   ]
  },
  {
   "cell_type": "code",
   "execution_count": 9,
   "id": "8b956162",
   "metadata": {},
   "outputs": [
    {
     "name": "stdout",
     "output_type": "stream",
     "text": [
      "\n",
      "Primeras 5 películas de cada tipo:\n",
      "\n",
      "=== MOVIE ===\n",
      "                    primaryTitle startYear runtimeMinutes  \\\n",
      "0                     Miss Jerry      1894             45   \n",
      "1  The Corbett-Fitzsimmons Fight      1897            100   \n",
      "2                       Bohemios      1905            100   \n",
      "3    The Story of the Kelly Gang      1906             70   \n",
      "4               The Prodigal Son      1907             90   \n",
      "\n",
      "                       genres  \n",
      "0                     Romance  \n",
      "1      Documentary,News,Sport  \n",
      "2                          \\N  \n",
      "3  Action,Adventure,Biography  \n",
      "4                       Drama  \n",
      "\n",
      "=== TVMOVIE ===\n",
      "                    primaryTitle startYear runtimeMinutes         genres\n",
      "20302              Julius Caesar      1938            101  Drama,History\n",
      "26711             As You Like It      1946             \\N          Drama\n",
      "27062  A Midsummer Night's Dream      1946            150  Drama,Fantasy\n",
      "27632              Hamlet Part 1      1947             88          Drama\n",
      "27778     The Merchant of Venice      1947             90          Drama\n"
     ]
    }
   ],
   "source": [
    "print(\"\\nPrimeras 5 películas de cada tipo:\")\n",
    "for tipo in tipos_peliculas[\"titleType\"]:\n",
    "    print(f\"\\n=== {tipo.upper()} ===\")\n",
    "    print(df_peliculas[df_peliculas['titleType'] == tipo].head()[['primaryTitle', 'startYear', 'runtimeMinutes', 'genres']])"
   ]
  },
  {
   "cell_type": "markdown",
   "id": "a01b45f1",
   "metadata": {},
   "source": [
    "Recorre todas las columnas y muestra cuántos nulos hay en cada una."
   ]
  },
  {
   "cell_type": "code",
   "execution_count": 10,
   "id": "1d3cff2b",
   "metadata": {},
   "outputs": [
    {
     "name": "stdout",
     "output_type": "stream",
     "text": [
      "Análisis de valores nulos por columna:\n",
      "--------------------------------------------------\n",
      "\n",
      "Columna: tconst\n",
      "- Valores '\\N': 0\n",
      "- Valores NaN: 0\n",
      "- Total nulos: 0\n",
      "- Porcentaje: 0.00%\n",
      "\n",
      "Columna: titleType\n",
      "- Valores '\\N': 0\n",
      "- Valores NaN: 0\n",
      "- Total nulos: 0\n",
      "- Porcentaje: 0.00%\n",
      "\n",
      "Columna: primaryTitle\n",
      "- Valores '\\N': 0\n",
      "- Valores NaN: 3\n",
      "- Total nulos: 3\n",
      "- Porcentaje: 0.00%\n",
      "\n",
      "Columna: originalTitle\n",
      "- Valores '\\N': 0\n",
      "- Valores NaN: 3\n",
      "- Total nulos: 3\n",
      "- Porcentaje: 0.00%\n",
      "\n",
      "Columna: isAdult\n",
      "- Valores '\\N': 0\n",
      "- Valores NaN: 0\n",
      "- Total nulos: 0\n",
      "- Porcentaje: 0.00%\n",
      "\n",
      "Columna: startYear\n",
      "- Valores '\\N': 111,390\n",
      "- Valores NaN: 0\n",
      "- Total nulos: 111,390\n",
      "- Porcentaje: 12.71%\n",
      "\n",
      "Columna: endYear\n",
      "- Valores '\\N': 876,594\n",
      "- Valores NaN: 0\n",
      "- Total nulos: 876,594\n",
      "- Porcentaje: 100.00%\n",
      "\n",
      "Columna: runtimeMinutes\n",
      "- Valores '\\N': 314,612\n",
      "- Valores NaN: 0\n",
      "- Total nulos: 314,612\n",
      "- Porcentaje: 35.89%\n",
      "\n",
      "Columna: genres\n",
      "- Valores '\\N': 90,763\n",
      "- Valores NaN: 0\n",
      "- Total nulos: 90,763\n",
      "- Porcentaje: 10.35%\n",
      "\n",
      "Registros con al menos un valor nulo: 876,594 (100.00% del total)\n"
     ]
    }
   ],
   "source": [
    "# Analizar cada columna\n",
    "cleaner.mostrar_nulos(df_peliculas)"
   ]
  },
  {
   "cell_type": "markdown",
   "id": "4b440144",
   "metadata": {},
   "source": [
    "Limpieza de nulos.  \n",
    "Se eliminan los registros donde falten datos en columnas clave."
   ]
  },
  {
   "cell_type": "code",
   "execution_count": 11,
   "id": "156de062",
   "metadata": {},
   "outputs": [],
   "source": [
    "# Columnas a verificar\n",
    "columnas_a_filtrar = ['genres', 'primaryTitle', 'originalTitle', 'runtimeMinutes']\n",
    "\n",
    "# Aplicar el filtro\n",
    "df_peliculas_limpio = cleaner.limpiar_nulos(df_peliculas, columnas_a_filtrar) "
   ]
  },
  {
   "cell_type": "code",
   "execution_count": 12,
   "id": "e75cb1a4",
   "metadata": {},
   "outputs": [
    {
     "name": "stdout",
     "output_type": "stream",
     "text": [
      "Registros originales: 876,594\n",
      "Registros después de eliminar nulos: 530,367\n",
      "Registros eliminados: 346,227 (39.50%)\n",
      "\n",
      "Distribución por tipo después de la limpieza:\n",
      "titleType\n",
      "movie      431138\n",
      "tvMovie     99229\n",
      "Name: count, dtype: int64\n",
      "\n",
      "Muestra de 5 registros limpios:\n"
     ]
    },
    {
     "data": {
      "text/html": [
       "<div>\n",
       "<style scoped>\n",
       "    .dataframe tbody tr th:only-of-type {\n",
       "        vertical-align: middle;\n",
       "    }\n",
       "\n",
       "    .dataframe tbody tr th {\n",
       "        vertical-align: top;\n",
       "    }\n",
       "\n",
       "    .dataframe thead th {\n",
       "        text-align: right;\n",
       "    }\n",
       "</style>\n",
       "<table border=\"1\" class=\"dataframe\">\n",
       "  <thead>\n",
       "    <tr style=\"text-align: right;\">\n",
       "      <th></th>\n",
       "      <th>primaryTitle</th>\n",
       "      <th>titleType</th>\n",
       "      <th>startYear</th>\n",
       "      <th>runtimeMinutes</th>\n",
       "      <th>genres</th>\n",
       "    </tr>\n",
       "  </thead>\n",
       "  <tbody>\n",
       "    <tr>\n",
       "      <th>0</th>\n",
       "      <td>Miss Jerry</td>\n",
       "      <td>movie</td>\n",
       "      <td>1894</td>\n",
       "      <td>45</td>\n",
       "      <td>Romance</td>\n",
       "    </tr>\n",
       "    <tr>\n",
       "      <th>1</th>\n",
       "      <td>The Corbett-Fitzsimmons Fight</td>\n",
       "      <td>movie</td>\n",
       "      <td>1897</td>\n",
       "      <td>100</td>\n",
       "      <td>Documentary,News,Sport</td>\n",
       "    </tr>\n",
       "    <tr>\n",
       "      <th>3</th>\n",
       "      <td>The Story of the Kelly Gang</td>\n",
       "      <td>movie</td>\n",
       "      <td>1906</td>\n",
       "      <td>70</td>\n",
       "      <td>Action,Adventure,Biography</td>\n",
       "    </tr>\n",
       "    <tr>\n",
       "      <th>4</th>\n",
       "      <td>The Prodigal Son</td>\n",
       "      <td>movie</td>\n",
       "      <td>1907</td>\n",
       "      <td>90</td>\n",
       "      <td>Drama</td>\n",
       "    </tr>\n",
       "    <tr>\n",
       "      <th>8</th>\n",
       "      <td>The Fairylogue and Radio-Plays</td>\n",
       "      <td>movie</td>\n",
       "      <td>1908</td>\n",
       "      <td>120</td>\n",
       "      <td>Adventure,Fantasy</td>\n",
       "    </tr>\n",
       "  </tbody>\n",
       "</table>\n",
       "</div>"
      ],
      "text/plain": [
       "                     primaryTitle titleType startYear runtimeMinutes  \\\n",
       "0                      Miss Jerry     movie      1894             45   \n",
       "1   The Corbett-Fitzsimmons Fight     movie      1897            100   \n",
       "3     The Story of the Kelly Gang     movie      1906             70   \n",
       "4                The Prodigal Son     movie      1907             90   \n",
       "8  The Fairylogue and Radio-Plays     movie      1908            120   \n",
       "\n",
       "                       genres  \n",
       "0                     Romance  \n",
       "1      Documentary,News,Sport  \n",
       "3  Action,Adventure,Biography  \n",
       "4                       Drama  \n",
       "8           Adventure,Fantasy  "
      ]
     },
     "execution_count": 12,
     "metadata": {},
     "output_type": "execute_result"
    }
   ],
   "source": [
    "# Mostrar información sobre los registros filtrados\n",
    "cleaner.mostrar_registros_filtrados(df_peliculas,df_peliculas_limpio)\n",
    "\n",
    "print(\"\\nDistribución por tipo después de la limpieza:\")\n",
    "print(df_peliculas_limpio['titleType'].value_counts())\n",
    "\n",
    "print(\"\\nMuestra de 5 registros limpios:\")\n",
    "df_peliculas_limpio[['primaryTitle', 'titleType', 'startYear', 'runtimeMinutes', 'genres']].head()"
   ]
  },
  {
   "cell_type": "markdown",
   "id": "bb8873ad",
   "metadata": {},
   "source": [
    "Filtra solo películas del año 2019 que no sean para adultos."
   ]
  },
  {
   "cell_type": "code",
   "execution_count": 13,
   "id": "5a71d25f",
   "metadata": {},
   "outputs": [],
   "source": [
    "# Filtrar películas del 2019\n",
    "filtros={'startYear':'2019',\n",
    "        'isAdult':0}\n",
    "\n",
    "df_peliculas_filtrado = cleaner.filtrar_dataframe(df_peliculas_limpio, filtros)"
   ]
  },
  {
   "cell_type": "code",
   "execution_count": 14,
   "id": "267cca71",
   "metadata": {},
   "outputs": [
    {
     "name": "stdout",
     "output_type": "stream",
     "text": [
      "Total de películas del 2019: 16,810\n",
      "\n",
      "Distribución por tipo:\n",
      "titleType\n",
      "movie      14615\n",
      "tvMovie     2195\n",
      "Name: count, dtype: int64\n",
      "\n",
      "Estadísticas de duración (en minutos):\n",
      "count    16810.000000\n",
      "mean        93.533314\n",
      "std        514.964989\n",
      "min          1.000000\n",
      "25%         70.000000\n",
      "50%         88.000000\n",
      "75%        101.000000\n",
      "max      59460.000000\n",
      "Name: runtimeMinutes, dtype: float64\n"
     ]
    }
   ],
   "source": [
    "print(f\"Total de películas del 2019: {len(df_peliculas_filtrado):,}\")\n",
    "print(\"\\nDistribución por tipo:\")\n",
    "print(df_peliculas_filtrado['titleType'].value_counts())\n",
    "\n",
    "print(\"\\nEstadísticas de duración (en minutos):\")\n",
    "print(df_peliculas_filtrado['runtimeMinutes'].astype(float).describe())\n"
   ]
  },
  {
   "cell_type": "code",
   "execution_count": 15,
   "id": "d61f25e6",
   "metadata": {},
   "outputs": [
    {
     "name": "stdout",
     "output_type": "stream",
     "text": [
      "\n",
      "Muestra de películas del 2019:\n"
     ]
    },
    {
     "data": {
      "text/html": [
       "<div>\n",
       "<style scoped>\n",
       "    .dataframe tbody tr th:only-of-type {\n",
       "        vertical-align: middle;\n",
       "    }\n",
       "\n",
       "    .dataframe tbody tr th {\n",
       "        vertical-align: top;\n",
       "    }\n",
       "\n",
       "    .dataframe thead th {\n",
       "        text-align: right;\n",
       "    }\n",
       "</style>\n",
       "<table border=\"1\" class=\"dataframe\">\n",
       "  <thead>\n",
       "    <tr style=\"text-align: right;\">\n",
       "      <th></th>\n",
       "      <th>tconst</th>\n",
       "      <th>titleType</th>\n",
       "      <th>primaryTitle</th>\n",
       "      <th>originalTitle</th>\n",
       "      <th>startYear</th>\n",
       "      <th>endYear</th>\n",
       "      <th>runtimeMinutes</th>\n",
       "      <th>genres</th>\n",
       "    </tr>\n",
       "  </thead>\n",
       "  <tbody>\n",
       "    <tr>\n",
       "      <th>87763</th>\n",
       "      <td>tt0116991</td>\n",
       "      <td>movie</td>\n",
       "      <td>Mariette in Ecstasy</td>\n",
       "      <td>Mariette in Ecstasy</td>\n",
       "      <td>2019</td>\n",
       "      <td>\\N</td>\n",
       "      <td>101</td>\n",
       "      <td>Drama</td>\n",
       "    </tr>\n",
       "    <tr>\n",
       "      <th>217353</th>\n",
       "      <td>tt0385887</td>\n",
       "      <td>movie</td>\n",
       "      <td>Motherless Brooklyn</td>\n",
       "      <td>Motherless Brooklyn</td>\n",
       "      <td>2019</td>\n",
       "      <td>\\N</td>\n",
       "      <td>144</td>\n",
       "      <td>Crime,Drama,Mystery</td>\n",
       "    </tr>\n",
       "    <tr>\n",
       "      <th>233764</th>\n",
       "      <td>tt0437086</td>\n",
       "      <td>movie</td>\n",
       "      <td>Alita: Battle Angel</td>\n",
       "      <td>Alita: Battle Angel</td>\n",
       "      <td>2019</td>\n",
       "      <td>\\N</td>\n",
       "      <td>122</td>\n",
       "      <td>Action,Adventure,Sci-Fi</td>\n",
       "    </tr>\n",
       "    <tr>\n",
       "      <th>235270</th>\n",
       "      <td>tt0441881</td>\n",
       "      <td>movie</td>\n",
       "      <td>Danger Close</td>\n",
       "      <td>Danger Close: The Battle of Long Tan</td>\n",
       "      <td>2019</td>\n",
       "      <td>\\N</td>\n",
       "      <td>118</td>\n",
       "      <td>Action,Drama,War</td>\n",
       "    </tr>\n",
       "    <tr>\n",
       "      <th>237327</th>\n",
       "      <td>tt0448115</td>\n",
       "      <td>movie</td>\n",
       "      <td>Shazam!</td>\n",
       "      <td>Shazam!</td>\n",
       "      <td>2019</td>\n",
       "      <td>\\N</td>\n",
       "      <td>132</td>\n",
       "      <td>Action,Adventure,Comedy</td>\n",
       "    </tr>\n",
       "    <tr>\n",
       "      <th>254146</th>\n",
       "      <td>tt0783640</td>\n",
       "      <td>movie</td>\n",
       "      <td>The Last Full Measure</td>\n",
       "      <td>The Last Full Measure</td>\n",
       "      <td>2019</td>\n",
       "      <td>\\N</td>\n",
       "      <td>116</td>\n",
       "      <td>Drama,War</td>\n",
       "    </tr>\n",
       "    <tr>\n",
       "      <th>254769</th>\n",
       "      <td>tt0791072</td>\n",
       "      <td>movie</td>\n",
       "      <td>Enemigo</td>\n",
       "      <td>Enemigo</td>\n",
       "      <td>2019</td>\n",
       "      <td>\\N</td>\n",
       "      <td>93</td>\n",
       "      <td>Drama</td>\n",
       "    </tr>\n",
       "    <tr>\n",
       "      <th>255734</th>\n",
       "      <td>tt0800325</td>\n",
       "      <td>movie</td>\n",
       "      <td>The Dirt</td>\n",
       "      <td>The Dirt</td>\n",
       "      <td>2019</td>\n",
       "      <td>\\N</td>\n",
       "      <td>107</td>\n",
       "      <td>Biography,Comedy,Drama</td>\n",
       "    </tr>\n",
       "    <tr>\n",
       "      <th>256662</th>\n",
       "      <td>tt0810836</td>\n",
       "      <td>movie</td>\n",
       "      <td>Dirt Music</td>\n",
       "      <td>Dirt Music</td>\n",
       "      <td>2019</td>\n",
       "      <td>\\N</td>\n",
       "      <td>105</td>\n",
       "      <td>Crime,Drama,Romance</td>\n",
       "    </tr>\n",
       "    <tr>\n",
       "      <th>259568</th>\n",
       "      <td>tt0837563</td>\n",
       "      <td>movie</td>\n",
       "      <td>Pet Sematary</td>\n",
       "      <td>Pet Sematary</td>\n",
       "      <td>2019</td>\n",
       "      <td>\\N</td>\n",
       "      <td>100</td>\n",
       "      <td>Horror,Mystery,Thriller</td>\n",
       "    </tr>\n",
       "  </tbody>\n",
       "</table>\n",
       "</div>"
      ],
      "text/plain": [
       "           tconst titleType           primaryTitle  \\\n",
       "87763   tt0116991     movie    Mariette in Ecstasy   \n",
       "217353  tt0385887     movie    Motherless Brooklyn   \n",
       "233764  tt0437086     movie    Alita: Battle Angel   \n",
       "235270  tt0441881     movie           Danger Close   \n",
       "237327  tt0448115     movie                Shazam!   \n",
       "254146  tt0783640     movie  The Last Full Measure   \n",
       "254769  tt0791072     movie                Enemigo   \n",
       "255734  tt0800325     movie               The Dirt   \n",
       "256662  tt0810836     movie             Dirt Music   \n",
       "259568  tt0837563     movie           Pet Sematary   \n",
       "\n",
       "                               originalTitle startYear endYear runtimeMinutes  \\\n",
       "87763                    Mariette in Ecstasy      2019      \\N            101   \n",
       "217353                   Motherless Brooklyn      2019      \\N            144   \n",
       "233764                   Alita: Battle Angel      2019      \\N            122   \n",
       "235270  Danger Close: The Battle of Long Tan      2019      \\N            118   \n",
       "237327                               Shazam!      2019      \\N            132   \n",
       "254146                 The Last Full Measure      2019      \\N            116   \n",
       "254769                               Enemigo      2019      \\N             93   \n",
       "255734                              The Dirt      2019      \\N            107   \n",
       "256662                            Dirt Music      2019      \\N            105   \n",
       "259568                          Pet Sematary      2019      \\N            100   \n",
       "\n",
       "                         genres  \n",
       "87763                     Drama  \n",
       "217353      Crime,Drama,Mystery  \n",
       "233764  Action,Adventure,Sci-Fi  \n",
       "235270         Action,Drama,War  \n",
       "237327  Action,Adventure,Comedy  \n",
       "254146                Drama,War  \n",
       "254769                    Drama  \n",
       "255734   Biography,Comedy,Drama  \n",
       "256662      Crime,Drama,Romance  \n",
       "259568  Horror,Mystery,Thriller  "
      ]
     },
     "execution_count": 15,
     "metadata": {},
     "output_type": "execute_result"
    }
   ],
   "source": [
    "columnas_a_eliminar=[\"isAdult\"]  #, \"endYear\"\n",
    "df_peliculas_filtrado = cleaner.eliminar_columnas(df_peliculas_filtrado,columnas_a_eliminar)\n",
    "\n",
    "print(\"\\nMuestra de películas del 2019:\")\n",
    "df_peliculas_filtrado.head(10)"
   ]
  },
  {
   "cell_type": "code",
   "execution_count": 16,
   "id": "00ca3dbf",
   "metadata": {},
   "outputs": [
    {
     "name": "stdout",
     "output_type": "stream",
     "text": [
      "Archivo guardado: peliculas_2019.csv\n"
     ]
    }
   ],
   "source": [
    "cleaner.guardar_csv(df_peliculas_filtrado, \"peliculas_2019.csv\")"
   ]
  },
  {
   "cell_type": "markdown",
   "id": "eba651f7",
   "metadata": {},
   "source": [
    "### Creo archivo para alias (title.akas.tsv)"
   ]
  },
  {
   "cell_type": "code",
   "execution_count": 6,
   "id": "1a04152a",
   "metadata": {},
   "outputs": [
    {
     "data": {
      "text/plain": [
       "<module 'src.helpers' from 'c:\\\\Users\\\\melod\\\\Downloads\\\\Base de Datos\\\\TPFinal\\\\g5-backend\\\\src\\\\helpers.py'>"
      ]
     },
     "execution_count": 6,
     "metadata": {},
     "output_type": "execute_result"
    }
   ],
   "source": [
    "import src.paths\n",
    "import src.helpers\n",
    "importlib.reload(src.paths)\n",
    "importlib.reload(src.helpers)"
   ]
  },
  {
   "cell_type": "code",
   "execution_count": 7,
   "id": "3ae4eab8",
   "metadata": {},
   "outputs": [],
   "source": [
    "from src.helpers import DatasetManager"
   ]
  },
  {
   "cell_type": "code",
   "execution_count": 8,
   "id": "e0d596a5",
   "metadata": {},
   "outputs": [],
   "source": [
    "from src.paths import RUTA_ALIAS\n",
    "from src.paths import RUTA_TITULO_2019\n",
    "from src.paths import RUTA_CRITICAS"
   ]
  },
  {
   "cell_type": "code",
   "execution_count": 20,
   "id": "2de40eec",
   "metadata": {},
   "outputs": [
    {
     "name": "stdout",
     "output_type": "stream",
     "text": [
      "Columnas: ['titleId', 'ordering', 'title', 'region', 'language', 'types', 'attributes', 'isOriginalTitle']\n",
      "\n",
      "Primeras filas:\n",
      "     titleId  ordering                      title region language  \\\n",
      "0  tt0000001         1                 Carmencita     \\N       \\N   \n",
      "1  tt0000001         2                 Carmencita     DE       \\N   \n",
      "2  tt0000001         3                 Carmencita     US       \\N   \n",
      "3  tt0000001         4  Carmencita - spanyol tánc     HU       \\N   \n",
      "\n",
      "         types     attributes  isOriginalTitle  \n",
      "0     original             \\N                1  \n",
      "1           \\N  literal title                0  \n",
      "2  imdbDisplay             \\N                0  \n",
      "3  imdbDisplay             \\N                0  \n"
     ]
    }
   ],
   "source": [
    "dm = DatasetManager()\n",
    "preview = dm.ver_preview(RUTA_ALIAS, n=4)"
   ]
  },
  {
   "cell_type": "code",
   "execution_count": 28,
   "id": "7932d7a5",
   "metadata": {},
   "outputs": [
    {
     "name": "stdout",
     "output_type": "stream",
     "text": [
      "Películas cargadas: 16,810\n"
     ]
    },
    {
     "data": {
      "text/html": [
       "<div>\n",
       "<style scoped>\n",
       "    .dataframe tbody tr th:only-of-type {\n",
       "        vertical-align: middle;\n",
       "    }\n",
       "\n",
       "    .dataframe tbody tr th {\n",
       "        vertical-align: top;\n",
       "    }\n",
       "\n",
       "    .dataframe thead th {\n",
       "        text-align: right;\n",
       "    }\n",
       "</style>\n",
       "<table border=\"1\" class=\"dataframe\">\n",
       "  <thead>\n",
       "    <tr style=\"text-align: right;\">\n",
       "      <th></th>\n",
       "      <th>tconst</th>\n",
       "      <th>titleType</th>\n",
       "      <th>primaryTitle</th>\n",
       "      <th>originalTitle</th>\n",
       "      <th>startYear</th>\n",
       "      <th>endYear</th>\n",
       "      <th>runtimeMinutes</th>\n",
       "      <th>genres</th>\n",
       "    </tr>\n",
       "  </thead>\n",
       "  <tbody>\n",
       "    <tr>\n",
       "      <th>0</th>\n",
       "      <td>tt0116991</td>\n",
       "      <td>movie</td>\n",
       "      <td>Mariette in Ecstasy</td>\n",
       "      <td>Mariette in Ecstasy</td>\n",
       "      <td>2019</td>\n",
       "      <td>\\N</td>\n",
       "      <td>101</td>\n",
       "      <td>Drama</td>\n",
       "    </tr>\n",
       "    <tr>\n",
       "      <th>1</th>\n",
       "      <td>tt0385887</td>\n",
       "      <td>movie</td>\n",
       "      <td>Motherless Brooklyn</td>\n",
       "      <td>Motherless Brooklyn</td>\n",
       "      <td>2019</td>\n",
       "      <td>\\N</td>\n",
       "      <td>144</td>\n",
       "      <td>Crime,Drama,Mystery</td>\n",
       "    </tr>\n",
       "    <tr>\n",
       "      <th>2</th>\n",
       "      <td>tt0437086</td>\n",
       "      <td>movie</td>\n",
       "      <td>Alita: Battle Angel</td>\n",
       "      <td>Alita: Battle Angel</td>\n",
       "      <td>2019</td>\n",
       "      <td>\\N</td>\n",
       "      <td>122</td>\n",
       "      <td>Action,Adventure,Sci-Fi</td>\n",
       "    </tr>\n",
       "    <tr>\n",
       "      <th>3</th>\n",
       "      <td>tt0441881</td>\n",
       "      <td>movie</td>\n",
       "      <td>Danger Close</td>\n",
       "      <td>Danger Close: The Battle of Long Tan</td>\n",
       "      <td>2019</td>\n",
       "      <td>\\N</td>\n",
       "      <td>118</td>\n",
       "      <td>Action,Drama,War</td>\n",
       "    </tr>\n",
       "    <tr>\n",
       "      <th>4</th>\n",
       "      <td>tt0448115</td>\n",
       "      <td>movie</td>\n",
       "      <td>Shazam!</td>\n",
       "      <td>Shazam!</td>\n",
       "      <td>2019</td>\n",
       "      <td>\\N</td>\n",
       "      <td>132</td>\n",
       "      <td>Action,Adventure,Comedy</td>\n",
       "    </tr>\n",
       "  </tbody>\n",
       "</table>\n",
       "</div>"
      ],
      "text/plain": [
       "      tconst titleType         primaryTitle  \\\n",
       "0  tt0116991     movie  Mariette in Ecstasy   \n",
       "1  tt0385887     movie  Motherless Brooklyn   \n",
       "2  tt0437086     movie  Alita: Battle Angel   \n",
       "3  tt0441881     movie         Danger Close   \n",
       "4  tt0448115     movie              Shazam!   \n",
       "\n",
       "                          originalTitle  startYear endYear  runtimeMinutes  \\\n",
       "0                   Mariette in Ecstasy       2019      \\N             101   \n",
       "1                   Motherless Brooklyn       2019      \\N             144   \n",
       "2                   Alita: Battle Angel       2019      \\N             122   \n",
       "3  Danger Close: The Battle of Long Tan       2019      \\N             118   \n",
       "4                               Shazam!       2019      \\N             132   \n",
       "\n",
       "                    genres  \n",
       "0                    Drama  \n",
       "1      Crime,Drama,Mystery  \n",
       "2  Action,Adventure,Sci-Fi  \n",
       "3         Action,Drama,War  \n",
       "4  Action,Adventure,Comedy  "
      ]
     },
     "execution_count": 28,
     "metadata": {},
     "output_type": "execute_result"
    }
   ],
   "source": [
    "peliculas_2019 = pd.read_csv(RUTA_TITULO_2019)\n",
    "print(f\"Películas cargadas: {len(peliculas_2019):,}\")\n",
    "peliculas_2019.head()"
   ]
  },
  {
   "cell_type": "code",
   "execution_count": 29,
   "id": "cf09615b",
   "metadata": {},
   "outputs": [
    {
     "name": "stdout",
     "output_type": "stream",
     "text": [
      "['tconst', 'titleType', 'primaryTitle', 'originalTitle', 'startYear', 'endYear', 'runtimeMinutes', 'genres']\n"
     ]
    }
   ],
   "source": [
    "print(peliculas_2019.columns.tolist())"
   ]
  },
  {
   "cell_type": "code",
   "execution_count": 30,
   "id": "ff7b518a",
   "metadata": {},
   "outputs": [
    {
     "name": "stdout",
     "output_type": "stream",
     "text": [
      "Películas cargadas: 16,810\n",
      "IDs únicos: 16,810\n"
     ]
    }
   ],
   "source": [
    "ids_2019 = set(peliculas_2019['tconst'].astype(str))\n",
    "\n",
    "print(f\"Películas cargadas: {len(peliculas_2019):,}\")\n",
    "print(f\"IDs únicos: {len(ids_2019):,}\")\n",
    "\n",
    "cleaner = DataCleaner(RUTA_ALIAS, DIR_DATA_PROCESADA)"
   ]
  },
  {
   "cell_type": "code",
   "execution_count": 54,
   "id": "4fcdac3e",
   "metadata": {},
   "outputs": [],
   "source": [
    "columnas_a_mantener = [\"titleId\", \"title\", \"isOriginalTitle\", \"region\", \"language\"]"
   ]
  },
  {
   "cell_type": "code",
   "execution_count": 32,
   "id": "685087a3",
   "metadata": {},
   "outputs": [
    {
     "name": "stdout",
     "output_type": "stream",
     "text": [
      "Filtrado akas -> 103,980 registros\n"
     ]
    }
   ],
   "source": [
    "df_akas = cleaner.limpiar(filtros={\"titleId\": list(ids_2019)})\n",
    "print(f\"Filtrado akas -> {len(df_akas):,} registros\")"
   ]
  },
  {
   "cell_type": "code",
   "execution_count": 33,
   "id": "926c32f2",
   "metadata": {},
   "outputs": [],
   "source": [
    "df_akas = cleaner.mantener_columnas(df_akas, columnas_a_mantener)"
   ]
  },
  {
   "cell_type": "code",
   "execution_count": 55,
   "id": "7dd9d946",
   "metadata": {},
   "outputs": [
    {
     "name": "stdout",
     "output_type": "stream",
     "text": [
      "Archivo guardado: alias_2019.csv\n"
     ]
    }
   ],
   "source": [
    "cleaner.guardar_csv(df_akas, \"alias_2019.csv\")"
   ]
  },
  {
   "cell_type": "code",
   "execution_count": 56,
   "id": "1b5b519e",
   "metadata": {},
   "outputs": [
    {
     "name": "stdout",
     "output_type": "stream",
     "text": [
      "['titleId', 'title', 'isOriginalTitle', 'region', 'language']\n"
     ]
    }
   ],
   "source": [
    "ruta_alias = os.path.join(DIR_DATA_PROCESADA, \"alias_2019.csv\")\n",
    "alias_2019 = pd.read_csv(ruta_alias)\n",
    "\n",
    "print(alias_2019.columns.tolist())"
   ]
  },
  {
   "cell_type": "code",
   "execution_count": 52,
   "id": "44c8655d",
   "metadata": {},
   "outputs": [
    {
     "name": "stdout",
     "output_type": "stream",
     "text": [
      "Películas cargadas: 16,810\n",
      "IDs únicos en películas: 16,810\n",
      "Registros en alias: 103,980\n",
      "IDs únicos en alias: 16,774\n",
      "IDs en ambos datasets: 16,774\n"
     ]
    }
   ],
   "source": [
    "ids_alias = set(alias_2019[\"titleId\"].astype(str))\n",
    "ids_peliculas = set(peliculas_2019[\"tconst\"].astype(str))\n",
    "\n",
    "print(f\"Películas cargadas: {len(peliculas_2019):,}\")\n",
    "print(f\"IDs únicos en películas: {len(ids_peliculas):,}\")\n",
    "print(f\"Registros en alias: {len(alias_2019):,}\")\n",
    "print(f\"IDs únicos en alias: {len(ids_alias):,}\")\n",
    "\n",
    "# Intersección (para verificar que coincidan)\n",
    "ids_en_ambos = ids_peliculas.intersection(ids_alias)\n",
    "print(f\"IDs en ambos datasets: {len(ids_en_ambos):,}\")"
   ]
  },
  {
   "cell_type": "code",
   "execution_count": 53,
   "id": "5ce6e8fb",
   "metadata": {},
   "outputs": [
    {
     "name": "stdout",
     "output_type": "stream",
     "text": [
      "Cobertura de alias sobre películas: 99.79%\n",
      "Cobertura de alias respecto a películas: 100.00%\n"
     ]
    }
   ],
   "source": [
    "# Porcentaje de películas que tienen al menos un alias\n",
    "cobertura = (len(ids_en_ambos) / len(ids_peliculas)) * 100\n",
    "print(f\"Cobertura de alias sobre películas: {cobertura:.2f}%\")\n",
    "\n",
    "# Porcentaje de alias que corresponden a alguna película de 2019\n",
    "cobertura_alias = (len(ids_en_ambos) / len(ids_alias)) * 100\n",
    "print(f\"Cobertura de alias respecto a películas: {cobertura_alias:.2f}%\")"
   ]
  },
  {
   "cell_type": "markdown",
   "id": "69b49b66",
   "metadata": {},
   "source": [
    "### Creo archivo para raitings (title.ratings.tsv)"
   ]
  },
  {
   "cell_type": "code",
   "execution_count": 80,
   "id": "855f1b51",
   "metadata": {},
   "outputs": [],
   "source": [
    "peliculas_2019 = pd.read_csv(RUTA_TITULO_2019)\n",
    "ids_2019 = set(peliculas_2019[\"tconst\"].astype(str))"
   ]
  },
  {
   "cell_type": "code",
   "execution_count": 81,
   "id": "f6fb1fc3",
   "metadata": {},
   "outputs": [],
   "source": [
    "cleaner = DataCleaner(RUTA_CRITICAS, DIR_DATA_PROCESADA)"
   ]
  },
  {
   "cell_type": "code",
   "execution_count": 82,
   "id": "bb1783c4",
   "metadata": {},
   "outputs": [],
   "source": [
    "columnas_ratings = [\"tconst\", \"averageRating\", \"numVotes\"]\n",
    "df_ratings = cleaner.limpiar(filtros={\"tconst\": list(ids_2019)})"
   ]
  },
  {
   "cell_type": "code",
   "execution_count": 83,
   "id": "87a636fa",
   "metadata": {},
   "outputs": [],
   "source": [
    "df_ratings = cleaner.mantener_columnas(df_ratings, columnas_ratings)"
   ]
  },
  {
   "cell_type": "code",
   "execution_count": 85,
   "id": "0fd4c1dd",
   "metadata": {},
   "outputs": [
    {
     "name": "stdout",
     "output_type": "stream",
     "text": [
      "Archivo guardado: criticas_2019.csv\n"
     ]
    }
   ],
   "source": [
    "cleaner.guardar_csv(df_ratings, \"criticas_2019.csv\")"
   ]
  },
  {
   "cell_type": "code",
   "execution_count": 86,
   "id": "9ec622dd",
   "metadata": {},
   "outputs": [
    {
     "name": "stdout",
     "output_type": "stream",
     "text": [
      "Registros de Ratings filtrados: 11,315\n",
      "IDs únicos en Ratings: 11,315\n"
     ]
    }
   ],
   "source": [
    "# Información de verificación\n",
    "print(f\"Registros de Ratings filtrados: {len(df_ratings):,}\")\n",
    "print(f\"IDs únicos en Ratings: {df_ratings['tconst'].nunique():,}\")"
   ]
  },
  {
   "cell_type": "markdown",
   "id": "1ae19133",
   "metadata": {},
   "source": [
    "### Creo archivo para principals (title.principals.tsv.gz)"
   ]
  },
  {
   "cell_type": "code",
   "execution_count": 11,
   "id": "a781c37b",
   "metadata": {},
   "outputs": [],
   "source": [
    "from src.paths import RUTA_PRINCIPALES\n",
    "from src.paths import RUTA_TITULO_2019\n",
    "\n",
    "from src.helpers import DatasetManager"
   ]
  },
  {
   "cell_type": "code",
   "execution_count": 12,
   "id": "e62fc827",
   "metadata": {},
   "outputs": [],
   "source": [
    "peliculas_2019 = pd.read_csv(RUTA_TITULO_2019)\n",
    "ids_2019 = set(peliculas_2019[\"tconst\"].astype(str))"
   ]
  },
  {
   "cell_type": "code",
   "execution_count": 13,
   "id": "0ae860d6",
   "metadata": {},
   "outputs": [
    {
     "name": "stdout",
     "output_type": "stream",
     "text": [
      "Películas cargadas: 16,810\n",
      "IDs únicos: 16,810\n"
     ]
    }
   ],
   "source": [
    "print(f\"Películas cargadas: {len(peliculas_2019):,}\")\n",
    "print(f\"IDs únicos: {len(ids_2019):,}\")"
   ]
  },
  {
   "cell_type": "code",
   "execution_count": 91,
   "id": "b0d71dfb",
   "metadata": {},
   "outputs": [],
   "source": [
    "cleaner = DataCleaner(RUTA_PRINCIPALES, DIR_DATA_PROCESADA)"
   ]
  },
  {
   "cell_type": "code",
   "execution_count": 15,
   "id": "1a65ce46",
   "metadata": {},
   "outputs": [
    {
     "name": "stdout",
     "output_type": "stream",
     "text": [
      "Columnas: ['tconst', 'ordering', 'nconst', 'category', 'job', 'characters']\n",
      "\n",
      "Primeras filas:\n",
      "      tconst  ordering     nconst         category                      job  \\\n",
      "0  tt0000001         1  nm1588970             self                       \\N   \n",
      "1  tt0000001         2  nm0005690         director                       \\N   \n",
      "2  tt0000001         3  nm0005690         producer                 producer   \n",
      "3  tt0000001         4  nm0374658  cinematographer  director of photography   \n",
      "\n",
      "  characters  \n",
      "0   [\"Self\"]  \n",
      "1         \\N  \n",
      "2         \\N  \n",
      "3         \\N  \n"
     ]
    }
   ],
   "source": [
    "dm = DatasetManager()\n",
    "preview = dm.ver_preview(RUTA_PRINCIPALES, n=4)"
   ]
  },
  {
   "cell_type": "code",
   "execution_count": 16,
   "id": "4238410f",
   "metadata": {},
   "outputs": [],
   "source": [
    "columnas_a_mantener = [\"tconst\", \"nconst\", \"category\", \"job\", \"characters\"]\n",
    "listado_trabajos=[\"actor\", \"actress\", \"self\", \"director\", \"writer\",\"composer\",\"producer\"]"
   ]
  },
  {
   "cell_type": "code",
   "execution_count": 17,
   "id": "6032f7f7",
   "metadata": {},
   "outputs": [
    {
     "name": "stdout",
     "output_type": "stream",
     "text": [
      "Filtrado principals -> 185,915 registros\n"
     ]
    }
   ],
   "source": [
    "df_principals = cleaner.limpiar(filtros={\"tconst\": list(ids_2019),\n",
    "                                         \"category\":listado_trabajos})\n",
    "print(f\"Filtrado principals -> {len(df_principals):,} registros\")"
   ]
  },
  {
   "cell_type": "code",
   "execution_count": 93,
   "id": "b0990dec",
   "metadata": {},
   "outputs": [
    {
     "name": "stdout",
     "output_type": "stream",
     "text": [
      "Tipos de Trabajos únicos encontrados:\n",
      "- actress\n",
      "- composer\n",
      "- self\n",
      "- director\n",
      "- producer\n",
      "- actor\n",
      "- writer\n",
      "\n",
      " Cantidad total de tipos de títulos: 7\n"
     ]
    }
   ],
   "source": [
    "trabajos_unicos = set(df_principals[\"category\"].dropna())\n",
    "print(\"Tipos de Trabajos únicos encontrados:\")\n",
    "for tipo in trabajos_unicos:\n",
    "    print(f\"- {tipo}\")\n",
    "\n",
    "print(f'\\n Cantidad total de tipos de títulos: {len(trabajos_unicos)}')"
   ]
  },
  {
   "cell_type": "code",
   "execution_count": 19,
   "id": "47f14100",
   "metadata": {},
   "outputs": [
    {
     "name": "stdout",
     "output_type": "stream",
     "text": [
      "Registros de Principals filtrados: 185,915\n",
      "IDs únicos en Principals: 16,650\n"
     ]
    }
   ],
   "source": [
    "print(f\"Registros de Principals filtrados: {len(df_principals):,}\")\n",
    "print(f\"IDs únicos en Principals: {df_principals['tconst'].nunique():,}\")"
   ]
  },
  {
   "cell_type": "code",
   "execution_count": 20,
   "id": "9208d41e",
   "metadata": {},
   "outputs": [],
   "source": [
    "df_principals = cleaner.mantener_columnas(df_principals, columnas_a_mantener)"
   ]
  },
  {
   "cell_type": "code",
   "execution_count": 26,
   "id": "c683ff39",
   "metadata": {},
   "outputs": [
    {
     "name": "stdout",
     "output_type": "stream",
     "text": [
      "Archivo guardado: principales_2019.csv\n"
     ]
    }
   ],
   "source": [
    "cleaner.guardar_csv(df_principals, \"principales_2019.csv\")"
   ]
  },
  {
   "cell_type": "code",
   "execution_count": 23,
   "id": "f2fc052d",
   "metadata": {},
   "outputs": [],
   "source": [
    "sys.path.append(os.path.abspath(os.path.join(os.getcwd(), \"./.\")))\n",
    "from src.paths import DIR_DATA_PROCESADA"
   ]
  },
  {
   "cell_type": "code",
   "execution_count": 25,
   "id": "cbf01849",
   "metadata": {},
   "outputs": [
    {
     "name": "stdout",
     "output_type": "stream",
     "text": [
      "Columnas: ['tconst,nconst,category,job,characters']\n",
      "\n",
      "Primeras filas:\n",
      "               tconst,nconst,category,job,characters\n",
      "0  tt0116991,nm0642374,actress,\\N,\"[\"\"Mariette Ba...\n",
      "1  tt0116991,nm0001693,actress,\\N,\"[\"\"Mother Sain...\n",
      "2  tt0116991,nm0032185,actress,\\N,\"[\"\"Sister Phil...\n",
      "3      tt0116991,nm0064229,actress,\\N,\"[\"\"Sister\"\"]\"\n"
     ]
    }
   ],
   "source": [
    "RUTA_PRINCIPALS_2019 =os.path.join(DIR_DATA_PROCESADA,\"principals_2019.csv\")\n",
    "dm = DatasetManager()\n",
    "preview = dm.ver_preview(RUTA_PRINCIPALS_2019, n=4)"
   ]
  },
  {
   "cell_type": "markdown",
   "id": "02c25a61",
   "metadata": {},
   "source": [
    "### Creo archivo para names (name.basics.tsv.gz)"
   ]
  },
  {
   "cell_type": "code",
   "execution_count": 34,
   "id": "1764cd51",
   "metadata": {},
   "outputs": [],
   "source": [
    "import src.paths\n",
    "import src.helpers"
   ]
  },
  {
   "cell_type": "code",
   "execution_count": 83,
   "id": "9875ead0",
   "metadata": {},
   "outputs": [
    {
     "data": {
      "text/plain": [
       "<module 'src.helpers' from 'c:\\\\Users\\\\melod\\\\Downloads\\\\Base de Datos\\\\TPFinal\\\\g5-backend\\\\src\\\\helpers.py'>"
      ]
     },
     "execution_count": 83,
     "metadata": {},
     "output_type": "execute_result"
    }
   ],
   "source": [
    "importlib.reload(src.paths)\n",
    "importlib.reload(src.helpers)"
   ]
  },
  {
   "cell_type": "code",
   "execution_count": 94,
   "id": "d188e081",
   "metadata": {},
   "outputs": [],
   "source": [
    "from src.paths import RUTA_NOMBRE\n",
    "from src.paths import RUTA_PRINCIPALES_2019\n",
    "from src.paths import RUTA_TITULO_2019\n",
    "\n",
    "from src.helpers import DatasetManager\n",
    "from src.helpers import DataCleaner"
   ]
  },
  {
   "cell_type": "code",
   "execution_count": 86,
   "id": "9d286dc1",
   "metadata": {},
   "outputs": [
    {
     "name": "stdout",
     "output_type": "stream",
     "text": [
      "Columnas: ['nconst', 'primaryName', 'birthYear', 'deathYear', 'primaryProfession', 'knownForTitles']\n",
      "\n",
      "Primeras filas:\n",
      "      nconst      primaryName  birthYear deathYear  \\\n",
      "0  nm0000001     Fred Astaire       1899      1987   \n",
      "1  nm0000002    Lauren Bacall       1924      2014   \n",
      "2  nm0000003  Brigitte Bardot       1934        \\N   \n",
      "3  nm0000004     John Belushi       1949      1982   \n",
      "\n",
      "                    primaryProfession                           knownForTitles  \n",
      "0        actor,miscellaneous,producer  tt0072308,tt0050419,tt0027125,tt0025164  \n",
      "1  actress,soundtrack,archive_footage  tt0037382,tt0075213,tt0038355,tt0117057  \n",
      "2   actress,music_department,producer  tt0057345,tt0049189,tt0056404,tt0054452  \n",
      "3       actor,writer,music_department  tt0072562,tt0077975,tt0080455,tt0078723  \n"
     ]
    }
   ],
   "source": [
    "dm = DatasetManager()\n",
    "preview = dm.ver_preview(RUTA_NOMBRE, n=4)"
   ]
  },
  {
   "cell_type": "code",
   "execution_count": 95,
   "id": "cc596e13",
   "metadata": {},
   "outputs": [],
   "source": [
    "df_principals = pd.read_csv(RUTA_PRINCIPALES_2019)  #de aca saco los \"nconst\""
   ]
  },
  {
   "cell_type": "code",
   "execution_count": 96,
   "id": "1572f1c3",
   "metadata": {},
   "outputs": [],
   "source": [
    "cleaner = DataCleaner(RUTA_NOMBRE , DIR_DATA_PROCESADA)"
   ]
  },
  {
   "cell_type": "code",
   "execution_count": 98,
   "id": "01b7ddf9",
   "metadata": {},
   "outputs": [],
   "source": [
    "columnas_a_mantener = ['nconst', 'primaryName', 'birthYear','primaryProfession']#, 'knownForTitles'"
   ]
  },
  {
   "cell_type": "code",
   "execution_count": 99,
   "id": "dfef30a7",
   "metadata": {},
   "outputs": [
    {
     "name": "stdout",
     "output_type": "stream",
     "text": [
      "Personas únicas en principals: 133,961\n"
     ]
    }
   ],
   "source": [
    "nconsts_relevantes = set(df_principals[\"nconst\"].astype(str))\n",
    "print(f\"Personas únicas en principals: {len(nconsts_relevantes):,}\")"
   ]
  },
  {
   "cell_type": "code",
   "execution_count": 100,
   "id": "55fb45fc",
   "metadata": {},
   "outputs": [],
   "source": [
    "df_names = cleaner.limpiar(filtros={'nconst': list(nconsts_relevantes)})"
   ]
  },
  {
   "cell_type": "code",
   "execution_count": 101,
   "id": "de38847a",
   "metadata": {},
   "outputs": [
    {
     "name": "stdout",
     "output_type": "stream",
     "text": [
      "Registros de names filtrados: 133,957\n",
      "IDs únicos en names: 133,957\n"
     ]
    }
   ],
   "source": [
    "print(f\"Registros de names filtrados: {len(df_names):,}\")\n",
    "print(f\"IDs únicos en names: {df_names['nconst'].nunique():,}\")"
   ]
  },
  {
   "cell_type": "code",
   "execution_count": 102,
   "id": "b5f1e830",
   "metadata": {},
   "outputs": [],
   "source": [
    "df_names = cleaner.mantener_columnas(df_names,columnas_a_mantener)"
   ]
  },
  {
   "cell_type": "code",
   "execution_count": 103,
   "id": "349be9d8",
   "metadata": {},
   "outputs": [
    {
     "name": "stdout",
     "output_type": "stream",
     "text": [
      "Archivo guardado: nombres_2019.csv\n"
     ]
    }
   ],
   "source": [
    "cleaner.guardar_csv(df_names, \"nombres_2019.csv\")"
   ]
  },
  {
   "cell_type": "code",
   "execution_count": 72,
   "id": "8d320140",
   "metadata": {},
   "outputs": [],
   "source": [
    "from src.paths import RUTA_NOMBRE_2019"
   ]
  },
  {
   "cell_type": "code",
   "execution_count": null,
   "id": "f505e6b3",
   "metadata": {},
   "outputs": [],
   "source": [
    "dm = DatasetManager()\n",
    "preview = dm.ver_preview(RUTA_NOMBRE_2019, n=4)"
   ]
  }
 ],
 "metadata": {
  "kernelspec": {
   "display_name": ".venv (3.12.3)",
   "language": "python",
   "name": "python3"
  },
  "language_info": {
   "codemirror_mode": {
    "name": "ipython",
    "version": 3
   },
   "file_extension": ".py",
   "mimetype": "text/x-python",
   "name": "python",
   "nbconvert_exporter": "python",
   "pygments_lexer": "ipython3",
   "version": "3.12.3"
  }
 },
 "nbformat": 4,
 "nbformat_minor": 5
}
