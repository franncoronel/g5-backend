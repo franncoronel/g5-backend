{
 "cells": [
  {
   "cell_type": "code",
   "execution_count": 1,
   "id": "1f7b73b3",
   "metadata": {},
   "outputs": [],
   "source": [
    "import pandas as pd\n",
    "import os\n",
    "import sys \n",
    "import importlib"
   ]
  },
  {
   "cell_type": "code",
   "execution_count": 2,
   "id": "548678c1",
   "metadata": {},
   "outputs": [],
   "source": [
    "sys.path.append(os.path.abspath(os.path.join(os.getcwd(), \"../..\")))"
   ]
  },
  {
   "cell_type": "code",
   "execution_count": 3,
   "id": "a1ea789d",
   "metadata": {},
   "outputs": [],
   "source": [
    "import src.paths\n",
    "import src.helpers\n",
    "importlib.reload(src.paths)\n",
    "importlib.reload(src.helpers)\n",
    "from src.helpers import DataCleaner\n",
    "from src.helpers import DatasetManager"
   ]
  },
  {
   "cell_type": "code",
   "execution_count": 4,
   "id": "ebdfea4b",
   "metadata": {},
   "outputs": [],
   "source": [
    "from src.paths import DIR_DATA_PROCESADA\n",
    "from src.paths import RUTA_TITULO_2019\n",
    "from src.paths import RUTA_ALIAS_2019\n",
    "from src.paths import RUTA_CRITICAS_2019\n",
    "from src.paths import RUTA_PERSONAL_2019\n",
    "from src.paths import RUTA_PRINCIPALES_2019\n",
    "from src.paths import RUTA_NOMBRE_2019"
   ]
  },
  {
   "cell_type": "code",
   "execution_count": 24,
   "id": "5017b2da",
   "metadata": {},
   "outputs": [
    {
     "name": "stdout",
     "output_type": "stream",
     "text": [
      "Columnas: ['tconst', 'titleType', 'primaryTitle', 'originalTitle', 'startYear', 'endYear', 'runtimeMinutes', 'genres']\n",
      "\n",
      "Primeras filas:\n",
      "      tconst titleType         primaryTitle  \\\n",
      "0  tt0116991     movie  Mariette in Ecstasy   \n",
      "1  tt0385887     movie  Motherless Brooklyn   \n",
      "2  tt0437086     movie  Alita: Battle Angel   \n",
      "3  tt0441881     movie         Danger Close   \n",
      "\n",
      "                          originalTitle  startYear endYear  runtimeMinutes  \\\n",
      "0                   Mariette in Ecstasy       2019      \\N             101   \n",
      "1                   Motherless Brooklyn       2019      \\N             144   \n",
      "2                   Alita: Battle Angel       2019      \\N             122   \n",
      "3  Danger Close: The Battle of Long Tan       2019      \\N             118   \n",
      "\n",
      "                    genres  \n",
      "0                    Drama  \n",
      "1      Crime,Drama,Mystery  \n",
      "2  Action,Adventure,Sci-Fi  \n",
      "3         Action,Drama,War  \n"
     ]
    }
   ],
   "source": [
    "dm = DatasetManager()\n",
    "preview = dm.ver_preview(RUTA_TITULO_2019)"
   ]
  },
  {
   "cell_type": "code",
   "execution_count": 25,
   "id": "1aae3e6c",
   "metadata": {},
   "outputs": [
    {
     "name": "stdout",
     "output_type": "stream",
     "text": [
      "Columnas: ['tconst', 'nconst', 'category', 'characters']\n",
      "\n",
      "Primeras filas:\n",
      "      tconst     nconst category                characters\n",
      "0  tt0116991  nm0642374  actress     [\"Mariette Baptiste\"]\n",
      "1  tt0116991  nm0001693  actress  [\"Mother Saint-Raphael\"]\n",
      "2  tt0116991  nm0032185  actress      [\"Sister Philomene\"]\n",
      "3  tt0116991  nm0064229  actress                [\"Sister\"]\n"
     ]
    }
   ],
   "source": [
    "dm = DatasetManager()\n",
    "preview = dm.ver_preview(RUTA_PRINCIPALES_2019)"
   ]
  },
  {
   "cell_type": "code",
   "execution_count": 26,
   "id": "181abdba",
   "metadata": {},
   "outputs": [
    {
     "name": "stdout",
     "output_type": "stream",
     "text": [
      "Columnas: ['nconst', 'primaryName', 'primaryProfession']\n",
      "\n",
      "Primeras filas:\n",
      "      nconst      primaryName                   primaryProfession\n",
      "0  nm0000003  Brigitte Bardot   actress,music_department,producer\n",
      "1  nm0000005   Ingmar Bergman               writer,director,actor\n",
      "2  nm0000023     Judy Garland  actress,soundtrack,archive_footage\n",
      "3  nm0000032  Charlton Heston               actor,director,writer\n"
     ]
    }
   ],
   "source": [
    "dm = DatasetManager()\n",
    "preview = dm.ver_preview(RUTA_NOMBRE_2019)"
   ]
  },
  {
   "cell_type": "code",
   "execution_count": 27,
   "id": "59b2629f",
   "metadata": {},
   "outputs": [
    {
     "name": "stdout",
     "output_type": "stream",
     "text": [
      "Columnas: ['tconst', 'title', 'isOriginalTitle', 'region', 'language']\n",
      "\n",
      "Primeras filas:\n",
      "       tconst                                 title  isOriginalTitle region  \\\n",
      "0   tt0116991                   Mariette in Ecstasy                0     CA   \n",
      "1   tt0385887             Тъмната страна на Бруклин                0     BG   \n",
      "2   tt0385887                                布鲁克林秘案                0     CN   \n",
      "3   tt0385887                   Motherless Brooklyn                0     HK   \n",
      "4   tt0385887                 Huérfanos de Brooklyn                0     US   \n",
      "5   tt0385887                Les ombres de Brooklyn                0     CA   \n",
      "6   tt0385887                             Ir Yetoma                0     IL   \n",
      "7   tt0385887                          マザーレス・ブルックリン                0     JP   \n",
      "8   tt0385887                        Öksüz Brooklyn                0     TR   \n",
      "9   tt0437086                     Алита: Боен ангел                0     BG   \n",
      "10  tt0437086                              阿丽塔：战斗天使                0     CN   \n",
      "11  tt0437086                   Alita: Battle Angel                0     HK   \n",
      "12  tt0437086      Battle Angel: La última guerrera                0     US   \n",
      "13  tt0437086             Alita : L'ange conquérant                0     CA   \n",
      "14  tt0437086                   Alita: Mal'akh Krav                0     IL   \n",
      "15  tt0437086                     अलीटा: बेटल एंजेल                0     IN   \n",
      "16  tt0437086                        アリータ　バトル・エンジェル                0     JP   \n",
      "17  tt0437086                  Alita: Borbeni Anđeo                0     BA   \n",
      "18  tt0437086                   Alita: Savaş Meleği                0     TR   \n",
      "19  tt0441881  Danger Close: The Battle of Long Tan                0     IN   \n",
      "20  tt0441881                       デンジャー・クロース 極限着弾                0     JP   \n",
      "21  tt0441881                         Yakın Tehlike                0     TR   \n",
      "22  tt0448115                                Шазам!                0     BG   \n",
      "23  tt0448115                                 雷霆沙赞！                0     CN   \n",
      "24  tt0448115                               Shazam!                0     EG   \n",
      "25  tt0448115                              ¡Shazam!                0     US   \n",
      "26  tt0448115                                शज़ैम!                0     IN   \n",
      "27  tt0448115                                 シャザム！                0     JP   \n",
      "28  tt0448115                         Shazam! 6 Güç                0     TR   \n",
      "29  tt0448115                               沙贊！神力集結                0     HK   \n",
      "\n",
      "   language  \n",
      "0        en  \n",
      "1        bg  \n",
      "2       cmn  \n",
      "3        en  \n",
      "4        es  \n",
      "5        fr  \n",
      "6        he  \n",
      "7        ja  \n",
      "8        tr  \n",
      "9        bg  \n",
      "10      cmn  \n",
      "11       en  \n",
      "12       es  \n",
      "13       fr  \n",
      "14       he  \n",
      "15       hi  \n",
      "16       ja  \n",
      "17       sr  \n",
      "18       tr  \n",
      "19       en  \n",
      "20       ja  \n",
      "21       tr  \n",
      "22       bg  \n",
      "23      cmn  \n",
      "24       en  \n",
      "25       es  \n",
      "26       hi  \n",
      "27       ja  \n",
      "28       tr  \n",
      "29      yue  \n"
     ]
    }
   ],
   "source": [
    "dm = DatasetManager()\n",
    "preview = dm.ver_preview(RUTA_ALIAS_2019,n=30)"
   ]
  },
  {
   "cell_type": "code",
   "execution_count": 28,
   "id": "3e7438a7",
   "metadata": {},
   "outputs": [
    {
     "name": "stdout",
     "output_type": "stream",
     "text": [
      "Columnas: ['tconst', 'directors', 'writers']\n",
      "\n",
      "Primeras filas:\n",
      "      tconst  directors                                            writers\n",
      "0  tt0116991  nm0007037                                          nm0361069\n",
      "1  tt0385887  nm0001570                                nm0001570,nm0504672\n",
      "2  tt0437086  nm0001675                      nm0000116,nm0436164,nm1738737\n",
      "3  tt0441881  nm0826541  nm0064181,nm1792356,nm1764825,nm0838283,nm4870103\n"
     ]
    }
   ],
   "source": [
    "dm = DatasetManager()\n",
    "preview = dm.ver_preview(RUTA_PERSONAL_2019)"
   ]
  },
  {
   "cell_type": "code",
   "execution_count": 35,
   "id": "4c3b7451",
   "metadata": {},
   "outputs": [
    {
     "name": "stdout",
     "output_type": "stream",
     "text": [
      "Columnas: ['tconst', 'averageRating', 'numVotes']\n",
      "\n",
      "Primeras filas:\n",
      "        tconst  averageRating  numVotes\n",
      "0    tt0116991            7.0        84\n",
      "1    tt0385887            6.8     65258\n",
      "2    tt0437086            7.3    315718\n",
      "3    tt0441881            6.8     15983\n",
      "4    tt0448115            7.0    405112\n",
      "5    tt0783640            6.8     15048\n",
      "6    tt0800325            7.0     59064\n",
      "7    tt0810836            5.3      1163\n",
      "8    tt0837563            5.7    102669\n",
      "9    tt0858419            5.6       638\n",
      "10  tt10001948            5.8        35\n",
      "11  tt10002654            6.3      1120\n",
      "12  tt10003978            7.6       489\n",
      "13  tt10004944            3.8       406\n",
      "14  tt10005162            5.2       139\n",
      "15  tt10006006            5.4      8501\n",
      "16  tt10006270            4.9       986\n",
      "17  tt10008784            6.3      4211\n",
      "18  tt10009030            5.8      3624\n",
      "19  tt10009098            7.7        80\n",
      "20  tt10009434            5.4       282\n",
      "21  tt10010368            8.0       971\n",
      "22  tt10010748            8.6        37\n",
      "23  tt10011102            7.2       125\n",
      "24  tt10011226            7.4       307\n",
      "25  tt10011232            7.3       494\n",
      "26  tt10011252            8.2       214\n",
      "27  tt10011264            6.9        96\n",
      "28  tt10011270            7.5       125\n",
      "29  tt10011284            7.4        70\n"
     ]
    }
   ],
   "source": [
    "dm = DatasetManager()\n",
    "preview = dm.ver_preview(RUTA_CRITICAS_2019,n=30)"
   ]
  },
  {
   "cell_type": "code",
   "execution_count": 30,
   "id": "792418db",
   "metadata": {},
   "outputs": [
    {
     "name": "stdout",
     "output_type": "stream",
     "text": [
      "Nombres cargados: 133,957\n"
     ]
    }
   ],
   "source": [
    "nombres_2019 = pd.read_csv(RUTA_NOMBRE_2019)\n",
    "print(f\"Nombres cargados: {len(nombres_2019):,}\")"
   ]
  },
  {
   "cell_type": "code",
   "execution_count": 34,
   "id": "388bf1cd",
   "metadata": {},
   "outputs": [
    {
     "name": "stdout",
     "output_type": "stream",
     "text": [
      "Nombres cargados: 70,202\n"
     ]
    }
   ],
   "source": [
    "nombres_2019 = pd.read_csv(RUTA_NOMBRE_2019)\n",
    "print(f\"Nombres cargados: {len(nombres_2019):,}\")"
   ]
  },
  {
   "cell_type": "code",
   "execution_count": null,
   "id": "47e79a2b",
   "metadata": {},
   "outputs": [
    {
     "name": "stdout",
     "output_type": "stream",
     "text": [
      "Nombres cargados: 6,753\n"
     ]
    }
   ],
   "source": [
    "titulos_2019 = pd.read_csv(RUTA_TITULO_2019)\n",
    "print(f\"Titulos cargados: {len(titulos_2019):,}\")"
   ]
  },
  {
   "cell_type": "markdown",
   "id": "fb50d77c",
   "metadata": {},
   "source": [
    "Análisis crew"
   ]
  },
  {
   "cell_type": "code",
   "execution_count": 11,
   "id": "51f61cb6",
   "metadata": {},
   "outputs": [],
   "source": [
    "crew = pd.read_csv(RUTA_PERSONAL_2019, dtype=str)\n",
    "principales = pd.read_csv(RUTA_PRINCIPALES_2019, dtype=str)"
   ]
  },
  {
   "cell_type": "code",
   "execution_count": 12,
   "id": "761502f6",
   "metadata": {},
   "outputs": [
    {
     "name": "stdout",
     "output_type": "stream",
     "text": [
      "Total directores en crew_2019: 13,289\n",
      "Coinciden en principals_2019:  12,686  (95.46%)\n",
      "No coinciden:                 603  (4.54%)\n"
     ]
    }
   ],
   "source": [
    "coincidencias = crew.merge(\n",
    "    principales,\n",
    "    left_on=[\"tconst\", \"directors\"],\n",
    "    right_on=[\"tconst\", \"nconst\"],\n",
    "    how=\"inner\")\n",
    "\n",
    "coinciden_unicos = coincidencias[[\"tconst\", \"directors\"]].drop_duplicates()\n",
    "\n",
    "total_directores = len(crew)\n",
    "total_coinciden = len(coinciden_unicos)\n",
    "total_no_coinciden = total_directores - total_coinciden\n",
    "\n",
    "porc_coinciden = (total_coinciden / total_directores) * 100 if total_directores > 0 else 0\n",
    "porc_no_coinciden = (total_no_coinciden / total_directores) * 100 if total_directores > 0 else 0\n",
    "\n",
    "print(f\"Total directores en crew_2019: {total_directores:,}\")\n",
    "print(f\"Coinciden en principals_2019:  {total_coinciden:,}  ({porc_coinciden:.2f}%)\")\n",
    "print(f\"No coinciden:                 {total_no_coinciden:,}  ({porc_no_coinciden:.2f}%)\")"
   ]
  }
 ],
 "metadata": {
  "kernelspec": {
   "display_name": ".venv",
   "language": "python",
   "name": "python3"
  },
  "language_info": {
   "codemirror_mode": {
    "name": "ipython",
    "version": 3
   },
   "file_extension": ".py",
   "mimetype": "text/x-python",
   "name": "python",
   "nbconvert_exporter": "python",
   "pygments_lexer": "ipython3",
   "version": "3.12.6"
  }
 },
 "nbformat": 4,
 "nbformat_minor": 5
}
